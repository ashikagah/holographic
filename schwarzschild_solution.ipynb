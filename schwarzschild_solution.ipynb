{
 "cells": [
  {
   "cell_type": "markdown",
   "id": "6b00ff64-acfd-4c19-9862-0a288a0a775d",
   "metadata": {},
   "source": [
    "# <center>__Schwarzschild Solution__</center>"
   ]
  },
  {
   "cell_type": "markdown",
   "id": "bfd2a5a9-48c8-45ad-93af-2b6f64186494",
   "metadata": {},
   "source": [
    "## __Definition__"
   ]
  },
  {
   "cell_type": "markdown",
   "id": "a5fed04b-9985-42f5-be8a-784c32ee45e4",
   "metadata": {},
   "source": [
    "In Einstein's theory of general relativity, the Schwarzschild metric (or solution) is an exact solution to the Einstein field equations that describes the gravitational field outside a spherical mass. In spherical coordinates ($t, r, \\theta, \\phi$), the metric is given by"
   ]
  },
  {
   "cell_type": "markdown",
   "id": "38206a8f-88a0-418f-9622-d536bdf2b39c",
   "metadata": {},
   "source": [
    "$$\n",
    "\\begin{equation}\n",
    "ds^2 = -\\left(1-\\frac{2G_NM}{c^2r}\\right)d(ct)^2 + \\frac{dr^2}{1-\\frac{2G_NM}{c^2r}}+r^2d\\Omega^2\n",
    "\\end{equation}\n",
    "$$"
   ]
  },
  {
   "cell_type": "markdown",
   "id": "8bec8ece-2a34-481a-9c5b-5e4f4dec209c",
   "metadata": {},
   "source": [
    "where $G_N$ is the Newtonian constant of gravitation ($=6.6743\\times 10^{−11}[N\\cdot m^2/kg^2]$), $c$ is the speed of light ($=2.99792458\\times 10^8 [m/s]$), $M$ is the mass, and  "
   ]
  },
  {
   "cell_type": "markdown",
   "id": "30a5f354-2bdf-41f5-9874-21744a04dfd4",
   "metadata": {},
   "source": [
    "$$\n",
    "\\begin{equation}\n",
    "d\\Omega^2 = d\\theta^2 + \\sin^2\\theta d\\phi\n",
    "\\end{equation}\n",
    "$$"
   ]
  },
  {
   "cell_type": "markdown",
   "id": "96bb41af-1534-4b83-af02-cf21b511e685",
   "metadata": {},
   "source": [
    "This solution has three assumptions.\n",
    "1. The system is spherically symmetric: It is invariant under rotations and taking the mirror image.\n",
    "2. The system is static: All metric components are independent of the time coordinate $t$.\n",
    "3. The system is in a vacuum: $T_{\\mu\\nu} = 0$. It also implies that $R_{\\mu\\nu} = 0$, because $R_{\\mu\\nu} - \\frac{1}{2}g_{\\mu\\nu}R = 0$ yields $R = 0$."
   ]
  },
  {
   "cell_type": "markdown",
   "id": "daea04ff-adb2-464c-b85d-683435a279e3",
   "metadata": {},
   "source": [
    "----------------------------------------------------------------------------------------------------------------------"
   ]
  },
  {
   "cell_type": "markdown",
   "id": "e9e29681-fa1a-48fd-91bd-cc7427fdf066",
   "metadata": {},
   "source": [
    "## __Derivation__"
   ]
  },
  {
   "cell_type": "markdown",
   "id": "7a622150-f592-4cbf-9158-169456106a71",
   "metadata": {},
   "source": [
    "Einstein's field equation for general relativity is given by"
   ]
  },
  {
   "cell_type": "markdown",
   "id": "b9af24f7-9db5-4ca0-b6b9-da8398ac4e6d",
   "metadata": {},
   "source": [
    "$$\n",
    "\\begin{equation}\n",
    "R_{\\mu\\nu} - \\frac{1}{2}g_{\\mu\\nu}R = \\frac{8\\pi G_N}{c^4}T_{\\mu\\nu} \n",
    "\\end{equation}\n",
    "$$"
   ]
  },
  {
   "cell_type": "markdown",
   "id": "f2f42654-1d4d-417f-8bf4-2ffa9582b19b",
   "metadata": {},
   "source": [
    "Because the system is in a vacuum ($T_{\\mu\\nu} = 0$), "
   ]
  },
  {
   "cell_type": "markdown",
   "id": "48b57cc2-a8c0-405b-8229-57d3fd697e7b",
   "metadata": {},
   "source": [
    "$$\n",
    "\\begin{equation}\n",
    "R_{\\mu\\nu} - \\frac{1}{2}g_{\\mu\\nu}R = 0\n",
    "\\end{equation}\n",
    "$$"
   ]
  },
  {
   "cell_type": "markdown",
   "id": "2efa1591-7e5c-4150-a1c5-8ae85a8e6531",
   "metadata": {},
   "source": [
    "When the left hand side of the equation is multiplied by $g^{\\mu\\nu}$, "
   ]
  },
  {
   "cell_type": "markdown",
   "id": "a85137fb-75da-43b1-bcf0-44cf710d2fe3",
   "metadata": {},
   "source": [
    "$$\\eqalign{\n",
    "g^{\\mu\\nu} R_{\\mu\\nu} - \\frac{1}{2}g^{\\mu\\nu} g_{\\mu\\nu}R & = R^\\mu_\\mu - \\frac{1}{2}\\delta^\\mu_\\mu R \\\\\n",
    "                                                          & = \\sum_{\\mu=1}^4 R^\\mu_\\mu - \\frac{1}{2} R \\sum_{\\mu=1}^4 \\delta^\\mu_\\mu \\\\ \n",
    "                                                          & = (R^1_1 + R^2_2 + R^3_3 + R^4_4) - \\frac{1}{2} R (\\delta^1_1+\\delta^2_2+\\delta^3_3+\\delta^4_4)\\\\\n",
    "                                                          & = R - \\frac{1}{2} \\cdot 4R \\\\\n",
    "                                                          & = - R = 0\\\\\n",
    "}$$"
   ]
  },
  {
   "cell_type": "markdown",
   "id": "bec5332f-2357-4995-8452-3ba55a7fa616",
   "metadata": {},
   "source": [
    "Therefore,"
   ]
  },
  {
   "cell_type": "markdown",
   "id": "7eec42ee-cab5-4bce-a16f-5665828196db",
   "metadata": {},
   "source": [
    "$$\n",
    "\\begin{equation}\n",
    "R_{\\mu\\nu} = 0\n",
    "\\end{equation}\n",
    "$$"
   ]
  },
  {
   "cell_type": "markdown",
   "id": "432c5564-1880-4439-8823-56d1c2c54e1e",
   "metadata": {},
   "source": [
    "The metric in a four-dimensional spacetime $(x^1, x^2, x^3, x^4)$ is given by "
   ]
  },
  {
   "cell_type": "markdown",
   "id": "5fddc82d-0bd5-4c19-b8da-75cce5974d16",
   "metadata": {},
   "source": [
    "$$\\eqalign{\n",
    "ds^2 & = g_{11}(dx^1)^2 + g_{12}dx^1dx^2 + g_{13}dx^1dx^3 + g_{14}dx^1dx^4 \\\\\n",
    "     & + g_{21}dx^2dx^1 + g_{22}(dx^2)^2 + g_{23}dx^2dx^3 + g_{24}dx^2dx^4 \\\\\n",
    "     & + g_{31}dx^3dx^1 + g_{32}dx^3dx^2 + g_{33}(dx^3)^2 + g_{34}dx^3dx^4 \\\\\n",
    "     & + g_{41}dx^4dx^1 + g_{42}dx^4dx^2 + g_{43}dx^4dx^3 + g_{44}(dx^4)^2 \\\\\n",
    "     & = \\begin{pmatrix} \n",
    "  g_{11} & g_{12} & g_{13} & g_{14} \\\\ \n",
    "  g_{21} & g_{22} & g_{23} & g_{24} \\\\\n",
    "  g_{31} & g_{32} & g_{33} & g_{34} \\\\\n",
    "  g_{41} & g_{42} & g_{43} & g_{44} \\\\\n",
    "  \\end{pmatrix}\n",
    "  \\begin{pmatrix} \n",
    "  dx^1dx^1 & dx^2dx^1 & dx^3dx^1 & dx^4dx^1 \\\\ \n",
    "  dx^1dx^2 & dx^2dx^2 & dx^3dx^2 & dx^4dx^2 \\\\\n",
    "  dx^1dx^3 & dx^2dx^3 & dx^3dx^3 & dx^4dx^3 \\\\\n",
    "  dx^1dx^4 & dx^2dx^4 & dx^3dx^4 & dx^4dx^4 \\\\\n",
    "  \\end{pmatrix} \\\\\n",
    "  & = \\sum_{\\mu=1}^4\\sum_{\\nu=1}^4 g_{\\mu\\nu} dx^\\mu dx^\\nu \\\\\n",
    "  & = g_{\\mu\\nu} dx^\\mu dx^\\nu \\text{(Einstein summation notation)}\n",
    "}$$"
   ]
  },
  {
   "cell_type": "markdown",
   "id": "30bb5f9e-0887-44c5-8c7d-a3ebd94dc638",
   "metadata": {},
   "source": [
    "Because the system is spherically symmetric, the metric can be derived from that of Minkowski spacetime. In Cartesian coordinates $(x^1, x^2, x^3, x^4) = (ct, x, y, z)$, the Minkowski metric is given by"
   ]
  },
  {
   "cell_type": "markdown",
   "id": "7f4f1c26-51d2-426b-990b-3f63e0619cb6",
   "metadata": {},
   "source": [
    "$$\\eqalign{\n",
    "ds^2 & = -d(ct)^2+dx^2+dy^2+dz^2 \\\\\n",
    "g_{\\mu\\nu} & = \\begin{pmatrix} \n",
    "  -1 & 0 & 0 & 0 \\\\ \n",
    "  0 & 1 & 0 & 0 \\\\\n",
    "  0 & 0 & 1 & 0 \\\\\n",
    "  0 & 0 & 0 & 1 \\\\\n",
    "  \\end{pmatrix}\n",
    "}$$"
   ]
  },
  {
   "cell_type": "markdown",
   "id": "02c7583e-153f-40a4-a334-b9213110a058",
   "metadata": {},
   "source": [
    "If the Cartesian coordinates $(x^1, x^2, x^3, x^4) = (ct, x, y, z)$ are transformed into spherical coordinates $(x^1, x^2, x^3, x^4) = (ct, r, \\theta, \\phi)$ as follows,"
   ]
  },
  {
   "cell_type": "markdown",
   "id": "07c72f66-1b64-410d-a6e1-fbc1a671364f",
   "metadata": {},
   "source": [
    "$$\\eqalign{\n",
    "x & = r\\sin\\theta\\cos\\phi \\\\\n",
    "y & = r\\sin\\theta\\sin\\phi \\\\\n",
    "z & = r\\cos\\theta\n",
    "}$$"
   ]
  },
  {
   "cell_type": "markdown",
   "id": "f0f451e6-5767-482e-90ec-617de985f750",
   "metadata": {},
   "source": [
    "Total derivative of the coordinate transformation is given by"
   ]
  },
  {
   "cell_type": "markdown",
   "id": "1719f78e-37f8-46df-9072-05487cdb866f",
   "metadata": {},
   "source": [
    "$$\\eqalign{\n",
    "dx & = \\sin\\theta\\cos\\phi dr + r\\cos\\phi\\cos\\theta d\\theta - r\\sin\\theta\\sin\\phi d\\phi \\\\\n",
    "dy & = \\sin\\theta\\sin\\phi dr + r\\sin\\phi\\cos\\theta d\\theta + r\\sin\\theta\\cos\\phi d\\phi \\\\\n",
    "dz & = \\cos\\theta dr - r\\sin\\theta d\\theta\n",
    "}$$"
   ]
  },
  {
   "cell_type": "markdown",
   "id": "2ba13a24-77b2-46cb-bc3a-900096a81ef6",
   "metadata": {},
   "source": [
    "Therefore, the Minkowski metric in spherical coordinates $(x^1, x^2, x^3, x^4) = (ct, r, \\theta, \\phi)$ is given by"
   ]
  },
  {
   "cell_type": "markdown",
   "id": "f784671d-37c3-48fd-acac-37afd4109b9e",
   "metadata": {},
   "source": [
    "$$\\eqalign{\n",
    "ds^2 & = -d(ct)^2 + dx^2 + dy^2 + dz^2 \\\\\n",
    "     & = -d(ct)^2 \\\\\n",
    "     & + (\\sin\\theta\\cos\\phi dr + r\\cos\\phi\\cos\\theta d\\theta - r\\sin\\theta\\sin\\phi d\\phi)^2 \\\\\n",
    "     & + (\\sin\\theta\\sin\\phi dr + r\\sin\\phi\\cos\\theta d\\theta + r\\sin\\theta\\cos\\phi d\\phi)^2 \\\\\n",
    "     & + (\\cos\\theta dr - r\\sin\\theta d\\theta)^2 \\\\\n",
    "     & = -d(ct)^2 + dr^2 + r^2d\\theta^2 + r^2\\sin^2\\theta d\\phi^2 \\\\\n",
    "g_{\\mu\\nu} & = \\begin{pmatrix} \n",
    "  -1 & 0 & 0 & 0 \\\\ \n",
    "  0 & 1 & 0 & 0 \\\\\n",
    "  0 & 0 & r^2 & 0 \\\\\n",
    "  0 & 0 & 0 & r^2\\sin^2\\theta \\\\\n",
    "  \\end{pmatrix}\n",
    "}$$"
   ]
  },
  {
   "cell_type": "markdown",
   "id": "7aa695c1-c54a-4b30-a727-1d3ac2e6d6b6",
   "metadata": {},
   "source": [
    "To derive the metric of the system, each term in the Minkowski metric in spherical coordinates $(x^1, x^2, x^3, x^4) = (ct, r, \\theta, \\phi)$ is multiplied by separate coefficients that are functions of $r$."
   ]
  },
  {
   "cell_type": "markdown",
   "id": "6415e99e-0d6b-47e3-a7fb-f66985fdf06f",
   "metadata": {},
   "source": [
    "$$\n",
    "\\begin{equation}\n",
    "ds^2 = -e^{2\\alpha(r)}d(ct)^2 + e^{2\\beta(r)}dr^2 + e^{2\\gamma(r)}r^2(d\\theta^2 + \\sin^2\\theta d\\phi^2)\n",
    "\\end{equation}\n",
    "$$"
   ]
  },
  {
   "cell_type": "markdown",
   "id": "1b9e01ef-278a-47be-9a7f-93521d3c0460",
   "metadata": {},
   "source": [
    "If a new coordinate $\\bar{r}$ is defined such that"
   ]
  },
  {
   "cell_type": "markdown",
   "id": "b7eae762-d408-4bb5-98cd-8a7dd13dafb5",
   "metadata": {},
   "source": [
    "$$\\eqalign{\n",
    " \\bar{r} & = e^{\\gamma(r)}r \\\\\n",
    "       r & = e^{-\\gamma(r)} \\bar{r} \\\\\n",
    "d\\bar{r} & = e^{\\gamma(r)} dr + e^{\\gamma(r)} rd\\gamma = \\left(1+r\\frac{d{\\gamma}}{dr}\\right)e^{\\gamma(r)} dr \\\\\n",
    "      dr & =  \\frac{e^{-\\gamma(r)}}{\\left(1+r\\frac{d{\\gamma}}{dr}\\right)}d\\bar{r}\n",
    "}$$"
   ]
  },
  {
   "cell_type": "markdown",
   "id": "ee5601ae-0495-432b-b927-387921c5d79c",
   "metadata": {},
   "source": [
    "The metric now becomes"
   ]
  },
  {
   "cell_type": "markdown",
   "id": "3254b152-915e-485b-843a-fe4e1dcda9f6",
   "metadata": {},
   "source": [
    "$$\\eqalign{\n",
    "ds^2 & = -e^{2\\alpha(r)}d(ct)^2 + e^{2\\beta(r)}\\left[\\frac{e^{-\\gamma(r)}}{\\left(1+r\\frac{d{\\gamma}}{dr}\\right)}d\\bar{r}\\right]^2 + e^{2\\gamma(r)} \\left[e^{-\\gamma(r)} \\bar{r}\\right]^2(d\\theta^2 + \\sin^2\\theta d\\phi^2) \\\\\n",
    " & = -e^{2\\alpha(r)}d(ct)^2 + \\frac{1}{\\left(1+r\\frac{d{\\gamma}}{dr}\\right)^2} e^{2\\beta(r)-2\\gamma(r)}d\\bar{r}^2 + \\bar{r}^2(d\\theta^2 + \\sin^2\\theta d\\phi^2)\n",
    "}$$"
   ]
  },
  {
   "cell_type": "markdown",
   "id": "359b8471-af79-474a-ba33-2c9fa8248cf2",
   "metadata": {},
   "source": [
    "If relabeled as follows,"
   ]
  },
  {
   "cell_type": "markdown",
   "id": "b7cff4b0-6815-4545-88a3-a1fc5e124abb",
   "metadata": {},
   "source": [
    "$$\\eqalign{\n",
    "\\bar{r} & \\rightarrow r \\\\\n",
    "\\frac{1}{\\left(1+r\\frac{d{\\gamma}}{dr}\\right)^2} e^{2\\beta(r)-2\\gamma(r)} & \\rightarrow e^{2\\beta(\\bar{r})} \n",
    "}$$"
   ]
  },
  {
   "cell_type": "markdown",
   "id": "55f9f897-f223-4ae3-8050-10e0747b8d14",
   "metadata": {},
   "source": [
    "The metric becomes"
   ]
  },
  {
   "cell_type": "markdown",
   "id": "716f1df0-5b5d-4646-bd3a-d060b91b5a5c",
   "metadata": {},
   "source": [
    "$$\n",
    "\\begin{equation}\n",
    "ds^2 = -e^{2\\alpha(\\bar{r})}d(ct)^2 + e^{2\\beta(\\bar{r})}dr^2 + \\bar{r}^2(d\\theta^2 + \\sin^2\\theta d\\phi^2)\n",
    "\\end{equation}\n",
    "$$"
   ]
  },
  {
   "cell_type": "markdown",
   "id": "8f92130f-9ddf-4c8e-b6c3-c10b941f791a",
   "metadata": {},
   "source": [
    "Therefore, the metric is given in the form of"
   ]
  },
  {
   "cell_type": "markdown",
   "id": "793981f3-eb61-4235-881f-528401d3f089",
   "metadata": {},
   "source": [
    "$$\\eqalign{\n",
    "ds^2 & = -e^{2\\alpha(r)}d(ct)^2 + e^{2\\beta(r)}dr^2 + r^2(d\\theta^2 + \\sin^2\\theta d\\phi^2) \\\\\n",
    "}$$"
   ]
  },
  {
   "cell_type": "markdown",
   "id": "0bfa4128-f4e2-4182-99ab-c52f2460520e",
   "metadata": {},
   "source": [
    "The metric tensor $g_{\\mu\\nu}$ and $g^{\\mu\\nu}$ are"
   ]
  },
  {
   "cell_type": "markdown",
   "id": "e78d5a5b-b9fe-420f-97e4-00fda04235ac",
   "metadata": {},
   "source": [
    "$$\\eqalign{\n",
    "g_{\\mu\\nu} & = \\begin{pmatrix} \n",
    "  -e^{2\\alpha(r)} & 0 & 0 & 0 \\\\ \n",
    "  0 & e^{2\\beta(r)} & 0 & 0 \\\\\n",
    "  0 & 0 & r^2 & 0 \\\\\n",
    "  0 & 0 & 0 & r^2\\sin^2\\theta \\\\\n",
    "  \\end{pmatrix} \\\\\n",
    "g^{\\mu\\nu} & = g_{\\mu\\nu}^{-1} \\\\\n",
    "  & = \\begin{pmatrix} \n",
    "  -e^{-2\\alpha(r)} & 0 & 0 & 0 \\\\ \n",
    "  0 & e^{-2\\beta(r)} & 0 & 0 \\\\\n",
    "  0 & 0 & \\frac{1}{r^2} & 0 \\\\\n",
    "  0 & 0 & 0 & \\frac{1}{r^2\\sin^2\\theta} \\\\\n",
    "  \\end{pmatrix}\n",
    "}$$"
   ]
  },
  {
   "cell_type": "markdown",
   "id": "53ced533-3967-40b4-b58f-dfa59ef25212",
   "metadata": {},
   "source": [
    "$$\\eqalign{\n",
    "g_{11} & = -e^{2\\alpha(r)} \\\\\n",
    "g_{22} & = e^{2\\beta(r)} \\\\\n",
    "g_{33} & = r^2 \\\\\n",
    "g_{44} & = r^2\\sin^2\\theta \\\\\n",
    "g^{11} & = -e^{-2\\alpha(r)} \\\\\n",
    "g^{22} & = e^{-2\\beta(r)} \\\\\n",
    "g^{33} & = \\frac{1}{r^2} \\\\\n",
    "g^{44} & = \\frac{1}{r^2\\sin^2\\theta}\n",
    "}$$"
   ]
  },
  {
   "cell_type": "markdown",
   "id": "b7e284cb-2023-4332-a325-79cd5feea8ef",
   "metadata": {},
   "source": [
    "All the other components of the metric tensor $g_{\\mu\\nu}$ and $g^{\\mu\\nu}$ are zero."
   ]
  },
  {
   "cell_type": "markdown",
   "id": "68a5f130-fa20-42f8-9d79-987f97fbc25f",
   "metadata": {},
   "source": [
    "Because the Christoffel symbol $\\Gamma^\\lambda_{\\mu\\nu}$ is defined as"
   ]
  },
  {
   "cell_type": "markdown",
   "id": "338521f4-73d7-4894-a700-0eccc78ed12d",
   "metadata": {},
   "source": [
    "$$\\eqalign{\n",
    "\\Gamma^\\lambda_{\\mu\\nu} & = \\sum_{\\rho=1}^4 \\frac{1}{2}g^{\\lambda\\rho}\\left(\\frac{\\partial g_{\\rho\\nu}}{\\partial x^\\mu} + \\frac{\\partial g_{\\rho\\mu}}{\\partial x^\\nu} - \\frac{\\partial g_{\\mu\\nu}}{\\partial x^\\rho} \\right)\\\\\n",
    "& = \\frac{1}{2}g^{\\lambda 1}\\left(\\frac{\\partial g_{1\\nu}}{\\partial x^\\mu} + \\frac{\\partial g_{1 \\mu}}{\\partial x^\\nu} - \\frac{\\partial g_{\\mu\\nu}}{\\partial x^1} \\right) \\\\\n",
    "& + \\frac{1}{2}g^{\\lambda 2}\\left(\\frac{\\partial g_{2\\nu}}{\\partial x^\\mu} + \\frac{\\partial g_{2 \\mu}}{\\partial x^\\nu} - \\frac{\\partial g_{\\mu\\nu}}{\\partial x^2} \\right) \\\\\n",
    "& + \\frac{1}{2}g^{\\lambda 3}\\left(\\frac{\\partial g_{3\\nu}}{\\partial x^\\mu} + \\frac{\\partial g_{3 \\mu}}{\\partial x^\\nu} - \\frac{\\partial g_{\\mu\\nu}}{\\partial x^3} \\right) \\\\\n",
    "& + \\frac{1}{2}g^{\\lambda 4}\\left(\\frac{\\partial g_{4\\nu}}{\\partial x^\\mu} + \\frac{\\partial g_{4 \\mu}}{\\partial x^\\nu} - \\frac{\\partial g_{\\mu\\nu}}{\\partial x^4} \\right) \\\\\n",
    "}$$"
   ]
  },
  {
   "cell_type": "markdown",
   "id": "fa6f9792-7b0a-4cec-92ab-59b678d1efe8",
   "metadata": {},
   "source": [
    "$\n",
    "\\begin{aligned}\n",
    "(\\lambda,\\mu,\\nu)=(1,1,2): \\Gamma ^1_{12} = \\frac{1}{2}g^{11}\\left(\\frac{\\partial g_{12}}{\\partial (ct)} + \\frac{\\partial g_{11}}{\\partial r} - \\frac{\\partial g_{12}}{\\partial (ct)} \\right) = \\frac{1}{2} \\cdot \\left[-e^{-2\\alpha(r)}\\right] \\cdot \\frac{\\partial}{\\partial r}\\left[-e^{2\\alpha(r)}\\right] = \\frac{1}{2} \\cdot e^{-2\\alpha(r)} \\cdot \\frac{\\partial [2\\alpha(r)]}{\\partial r} \\cdot e^{2\\alpha(r)} = \\frac{\\partial \\alpha(r)}{\\partial r}\n",
    "\\end{aligned}\n",
    "$"
   ]
  },
  {
   "cell_type": "markdown",
   "id": "4bb5ea3f-d18e-4ebc-a939-6fb9f7859d7f",
   "metadata": {},
   "source": [
    "$\n",
    "\\begin{aligned}\n",
    "(\\lambda,\\mu,\\nu)=(1,2,1): \\Gamma ^1_{21} = \\Gamma ^1_{12} = \\frac{\\partial \\alpha(r)}{\\partial r}\n",
    "\\end{aligned}\n",
    "$"
   ]
  },
  {
   "cell_type": "markdown",
   "id": "fa08c854-e52d-4240-bfef-00c0a5399e00",
   "metadata": {},
   "source": [
    "$\n",
    "\\begin{aligned}\n",
    "(\\lambda,\\mu,\\nu)=(2,1,1): \\Gamma ^2_{11} = \\frac{1}{2}g^{22}\\left(\\frac{\\partial g_{21}}{\\partial (ct)} + \\frac{\\partial g_{22}}{\\partial (ct)} - \\frac{\\partial g_{11}}{\\partial r} \\right)= \\frac{1}{2} \\cdot \\left[e^{-2\\beta(r)} \\right] \\cdot \\left(-\\frac{\\partial}{\\partial r}\\left[-e^{2\\alpha(r)}\\right]\\right) = \\frac{1}{2} \\cdot e^{-2\\beta(r)} \\cdot \\frac{\\partial [2\\alpha(r)]}{\\partial r} \\cdot e^{2\\alpha(r)} = 2[\\alpha(r)-\\beta(r)]\\frac{\\partial \\alpha(r)}{\\partial r}\n",
    "\\end{aligned}\n",
    "$"
   ]
  },
  {
   "cell_type": "markdown",
   "id": "4af4db45-4819-4d2f-9f92-896bf7863062",
   "metadata": {},
   "source": [
    "$\n",
    "\\begin{aligned}\n",
    "(\\lambda,\\mu,\\nu)=(2,2,2): \\Gamma ^2_{22} = \\frac{1}{2}g^{22}\\left(\\frac{\\partial g_{22}}{\\partial r} + \\frac{\\partial g_{22}}{\\partial r} - \\frac{\\partial g_{22}}{\\partial r} \\right) = \\frac{1}{2} \\cdot \\left[e^{-2\\beta(r)} \\right] \\cdot \\left[ \\frac{\\partial}{\\partial r} e^{2\\beta(r)} \\right] = \\frac{1}{2} \\cdot e^{-2\\beta(r)} \\cdot \\frac{\\partial [2\\beta(r)]}{\\partial r} \\cdot e^{2\\beta(r)} = \\frac{\\partial \\beta(r)}{\\partial r}\n",
    "\\end{aligned}\n",
    "$"
   ]
  },
  {
   "cell_type": "markdown",
   "id": "633409d9-7e92-49f5-8875-62caf9c74426",
   "metadata": {},
   "source": [
    "$\n",
    "\\begin{aligned}\n",
    "(\\lambda,\\mu,\\nu)=(2,3,3): \\Gamma ^2_{33} = \\frac{1}{2}g^{22}\\left(\\frac{\\partial g_{23}}{\\partial \\theta} + \\frac{\\partial g_{23}}{\\partial \\theta} - \\frac{\\partial g_{33}}{\\partial r} \\right) = \\frac{1}{2} \\cdot \\left[e^{-2\\beta(r)}\\right] \\cdot \\left(-\\frac{\\partial}{\\partial r}\\left[r^2\\right] \\right) = -r e^{-2\\beta(r)}\n",
    "\\end{aligned}\n",
    "$"
   ]
  },
  {
   "cell_type": "markdown",
   "id": "a54f04ba-75f4-4f73-b1ce-67cbe32dcddd",
   "metadata": {},
   "source": [
    "$\n",
    "\\begin{aligned}\n",
    "(\\lambda,\\mu,\\nu)=(2,4,4): \\Gamma ^2_{44} = \\frac{1}{2}g^{22}\\left(\\frac{\\partial g_{24}}{\\partial \\phi} + \\frac{\\partial g_{24}}{\\partial \\phi} - \\frac{\\partial g_{44}}{\\partial r} \\right) = \\frac{1}{2} \\cdot \\left[e^{-2\\beta(r)}\\right] \\cdot \\left(-\\frac{\\partial}{\\partial r}\\left[r^2\\sin^2\\theta\\right] \\right) = -r e^{-2\\beta(r)}\\sin^2\\theta\n",
    "\\end{aligned}\n",
    "$"
   ]
  },
  {
   "cell_type": "markdown",
   "id": "e759757a-2fd1-4df1-9f60-9499e482eb48",
   "metadata": {},
   "source": [
    "$\n",
    "\\begin{aligned}\n",
    "(\\lambda,\\mu,\\nu)=(3,2,3): \\Gamma ^3_{23} = \\frac{1}{2}g^{33}\\left(\\frac{\\partial g_{33}}{\\partial r} + \\frac{\\partial g_{32}}{\\partial \\theta} - \\frac{\\partial g_{23}}{\\partial \\theta} \\right) = \\frac{1}{2} \\cdot \\left[ \\frac{1}{r^2}\\right] \\cdot \\left(\\frac{\\partial}{\\partial r}\\left[r^2\\right] \\right) = \\frac{1}{r}\n",
    "\\end{aligned}\n",
    "$"
   ]
  },
  {
   "cell_type": "markdown",
   "id": "1c662c84-eede-4ef8-a3de-1813b3c3196d",
   "metadata": {},
   "source": [
    "$\n",
    "\\begin{aligned}\n",
    "(\\lambda,\\mu,\\nu)=(3,3,2): \\Gamma ^3_{32} = \\Gamma ^3_{23} = \\frac{1}{r}\n",
    "\\end{aligned}\n",
    "$"
   ]
  },
  {
   "cell_type": "markdown",
   "id": "4524f928-1b52-4859-92e6-35a237ddef90",
   "metadata": {},
   "source": [
    "$\n",
    "\\begin{aligned}\n",
    "(\\lambda,\\mu,\\nu)=(3,4,4): \\Gamma ^3_{44} = \\frac{1}{2}g^{33}\\left(\\frac{\\partial g_{34}}{\\partial \\phi} + \\frac{\\partial g_{34}}{\\partial \\phi} - \\frac{\\partial g_{44}}{\\partial \\theta} \\right) = \\frac{1}{2} \\cdot \\left[ \\frac{1}{r^2}\\right]  \\cdot \\left(-\\frac{\\partial}{\\partial \\theta}\\left[r^2\\sin^2\\theta\\right] \\right) = -\\sin\\theta\\cos\\theta\n",
    "\\end{aligned}\n",
    "$"
   ]
  },
  {
   "cell_type": "markdown",
   "id": "0af39f9e-5c5d-4a80-b095-54721fda8d6a",
   "metadata": {},
   "source": [
    "$\n",
    "\\begin{aligned}\n",
    "(\\lambda,\\mu,\\nu)=(4,2,4): \\Gamma ^4_{24} = \\frac{1}{2}g^{44}\\left(\\frac{\\partial g_{44}}{\\partial r} + \\frac{\\partial g_{42}}{\\partial \\phi} - \\frac{\\partial g_{24}}{\\partial \\phi} \\right) = \\frac{1}{2} \\cdot \\left[ \\frac{1}{r^2\\sin^2\\theta}\\right]  \\cdot \\left(\\frac{\\partial}{\\partial r}\\left[r^2\\sin^2\\theta\\right] \\right) = \\frac{1}{r}\n",
    "\\end{aligned}\n",
    "$"
   ]
  },
  {
   "cell_type": "markdown",
   "id": "7246db69-9fb2-4f33-b7ab-0a28b8b1e097",
   "metadata": {},
   "source": [
    "$\n",
    "\\begin{aligned}\n",
    "(\\lambda,\\mu,\\nu)=(4,3,4): \\Gamma ^4_{34} = \\frac{1}{2}g^{44}\\left(\\frac{\\partial g_{44}}{\\partial \\theta} + \\frac{\\partial g_{43}}{\\partial \\phi} - \\frac{\\partial g_{34}}{\\partial \\phi} \\right) = \\frac{1}{2} \\cdot \\left[ \\frac{1}{r^2\\sin^2\\theta}\\right]  \\cdot \\left(\\frac{\\partial}{\\partial \\theta}\\left[r^2\\sin^2\\theta\\right] \\right) = \\frac{\\cos\\theta}{\\sin\\theta}\n",
    "\\end{aligned}\n",
    "$"
   ]
  },
  {
   "cell_type": "markdown",
   "id": "b3823adb-8f3c-493f-a5d2-2c75ddc7ccd2",
   "metadata": {},
   "source": [
    "$\n",
    "\\begin{aligned}\n",
    "(\\lambda,\\mu,\\nu)=(4,4,2): \\Gamma ^4_{42} = \\Gamma ^4_{24} = \\frac{1}{r}\n",
    "\\end{aligned}\n",
    "$"
   ]
  },
  {
   "cell_type": "markdown",
   "id": "c67ff261-13cb-432a-b897-efff8044b2c9",
   "metadata": {},
   "source": [
    "$\n",
    "\\begin{aligned}\n",
    "(\\lambda,\\mu,\\nu)=(4,4,3): \\Gamma ^4_{43} = \\Gamma ^4_{34} = \\frac{\\cos\\theta}{\\sin\\theta}\n",
    "\\end{aligned}\n",
    "$"
   ]
  },
  {
   "cell_type": "markdown",
   "id": "deb7da30-a904-4b65-8dd9-1b6ec973de24",
   "metadata": {},
   "source": [
    "Because the Riemann tensor $R^\\kappa_{\\lambda\\mu\\nu}$ is defined as"
   ]
  },
  {
   "cell_type": "markdown",
   "id": "44f74f75-43cc-4aa7-940a-fe8b7aafea58",
   "metadata": {},
   "source": [
    "$$\\eqalign{\n",
    "R^\\kappa_{\\lambda\\mu\\nu} = \\frac{\\partial \\Gamma^\\kappa_{\\lambda\\nu}}{\\partial x^\\mu} - \\frac{\\partial \\Gamma^\\kappa_{\\lambda\\mu}}{\\partial x^\\nu} + \\Gamma^1_{\\lambda\\nu}\\Gamma^\\kappa_{1\\mu} - \\Gamma^1_{\\lambda\\mu}\\Gamma^\\kappa_{1\\nu} + \\Gamma^2_{\\lambda\\nu}\\Gamma^\\kappa_{2\\mu} - \\Gamma^2_{\\lambda\\mu}\\Gamma^\\kappa_{2\\nu} + \\Gamma^3_{\\lambda\\nu}\\Gamma^\\kappa_{3\\mu} - \\Gamma^3_{\\lambda\\mu}\\Gamma^\\kappa_{3\\nu} + \\Gamma^4_{\\lambda\\nu}\\Gamma^\\kappa_{1\\mu} - \\Gamma^4_{\\lambda\\mu}\\Gamma^\\kappa_{4\\nu}\n",
    "}$$"
   ]
  },
  {
   "cell_type": "markdown",
   "id": "7a15f11a-f508-43eb-b4e2-3b67ce35aae9",
   "metadata": {},
   "source": [
    "$\n",
    "\\begin{aligned}\n",
    "(\\kappa,\\lambda,\\mu,\\nu) =(1,2,1,2): R^1_{212} & = \\frac{\\partial \\Gamma^1_{22}}{\\partial (ct)} - \\frac{\\partial \\Gamma^1_{21}}{\\partial r} + \\Gamma^1_{22}\\Gamma^1_{11} - \\Gamma^1_{21}\\Gamma^1_{12} + \\Gamma^2_{22}\\Gamma^1_{21} - \\Gamma^2_{21}\\Gamma^1_{22} + \\Gamma^3_{22}\\Gamma^1_{31} - \\Gamma^3_{21}\\Gamma^1_{32} + \\Gamma^4_{22}\\Gamma^1_{11} - \\Gamma^4_{21}\\Gamma^1_{42} \\\\\n",
    "& = - \\frac{\\partial \\Gamma^1_{21}}{\\partial r} - \\Gamma^1_{21}\\Gamma^1_{12} + \\Gamma^2_{22}\\Gamma^1_{21} \\\\\n",
    "& = - \\frac{\\partial^2 \\alpha}{\\partial r^2} - \\left(\\frac{\\partial \\alpha}{\\partial r}\\right)^2 + \\frac{\\partial \\alpha}{\\partial r} \\frac{\\partial \\beta}{\\partial r}\n",
    "\\end{aligned}\n",
    "$"
   ]
  },
  {
   "cell_type": "code",
   "execution_count": null,
   "id": "227b06c8-ec16-43e6-b9ef-9572af0d7be2",
   "metadata": {},
   "outputs": [],
   "source": []
  }
 ],
 "metadata": {
  "kernelspec": {
   "display_name": "Qiskit (stable)",
   "language": "python",
   "name": "qiskit-stable"
  },
  "language_info": {
   "codemirror_mode": {
    "name": "ipython",
    "version": 3
   },
   "file_extension": ".py",
   "mimetype": "text/x-python",
   "name": "python",
   "nbconvert_exporter": "python",
   "pygments_lexer": "ipython3",
   "version": "3.9.17"
  }
 },
 "nbformat": 4,
 "nbformat_minor": 5
}
