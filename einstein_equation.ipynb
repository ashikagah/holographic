{
 "cells": [
  {
   "cell_type": "markdown",
   "id": "378fada3-8e5b-4312-9a92-ff04e7a30ecb",
   "metadata": {},
   "source": [
    "# <center>__Einstein's Field Equation__</center>"
   ]
  },
  {
   "cell_type": "markdown",
   "id": "dc782c1d-4113-478d-8b3a-26b2b53d6158",
   "metadata": {},
   "source": [
    "## __Definition__"
   ]
  },
  {
   "cell_type": "markdown",
   "id": "b7d55ca4-c112-4a1f-9b5d-4303af2a9372",
   "metadata": {},
   "source": [
    "Einstein's field equation for general relativity is given by"
   ]
  },
  {
   "cell_type": "markdown",
   "id": "9828fff1-3c25-4b2b-bdda-46a1630ee2cb",
   "metadata": {},
   "source": [
    "$$\n",
    "\\begin{equation}\n",
    "G_{\\mu\\nu} = R_{\\mu\\nu} - \\frac{1}{2}g_{\\mu\\nu}R = \\frac{8\\pi G_N}{c^4}T_{\\mu\\nu} \n",
    "\\end{equation}\n",
    "$$"
   ]
  },
  {
   "cell_type": "markdown",
   "id": "f120f705-a03b-4055-ae8c-6ef653d1270d",
   "metadata": {},
   "source": [
    "where $G_{\\mu\\nu}$ is the Einstein tensor, $R_{\\mu\\nu}$ is the Ricci curvature tensor, $R$ is the Ricci scalar curvature, $g_{\\mu\\nu}$ is the metric tensor, and $T_{\\mu\\nu}$ is the energy-momentum tensor."
   ]
  },
  {
   "cell_type": "markdown",
   "id": "b0188d07-e532-488c-b7c7-be317383b59a",
   "metadata": {},
   "source": [
    "The metric tensor $g_{\\mu\\nu}$ is defined as"
   ]
  },
  {
   "cell_type": "markdown",
   "id": "d2eafdf7-84af-4568-9ca3-aed20645259a",
   "metadata": {},
   "source": [
    "$$\n",
    "\\begin{equation}\n",
    "g_{\\mu\\nu} = \\begin{pmatrix} \n",
    "  g_{11} & g_{12} & g_{13} & g_{14} \\\\ \n",
    "  g_{21} & g_{22} & g_{23} & g_{24} \\\\\n",
    "  g_{31} & g_{32} & g_{33} & g_{34} \\\\\n",
    "  g_{41} & g_{42} & g_{43} & g_{44} \\\\\n",
    "  \\end{pmatrix}\n",
    "\\end{equation}\n",
    "$$"
   ]
  },
  {
   "cell_type": "markdown",
   "id": "d30dbf66-d4cb-4ec2-b0ac-b61e0645579a",
   "metadata": {},
   "source": [
    "$$\\eqalign{\n",
    "g^{\\mu\\nu} & = \\begin{pmatrix} \n",
    "  g^{11} & g^{12} & g^{13} & g^{14} \\\\ \n",
    "  g^{21} & g^{22} & g^{23} & g^{24} \\\\\n",
    "  g^{31} & g^{32} & g^{33} & g^{34} \\\\\n",
    "  g^{41} & g^{42} & g^{43} & g^{44} \\\\\n",
    "  \\end{pmatrix}\n",
    "  = g_{\\mu\\nu}^{-1} \\\\\n",
    "  g^{\\mu\\nu}g_{\\mu\\nu} & = \\begin{pmatrix} \n",
    "  g^{11} & g^{12} & g^{13} & g^{14} \\\\ \n",
    "  g^{21} & g^{22} & g^{23} & g^{24} \\\\\n",
    "  g^{31} & g^{32} & g^{33} & g^{34} \\\\\n",
    "  g^{41} & g^{42} & g^{43} & g^{44} \\\\\n",
    "  \\end{pmatrix}\n",
    "  \\begin{pmatrix} \n",
    "  g_{11} & g_{12} & g_{13} & g_{14} \\\\ \n",
    "  g_{21} & g_{22} & g_{23} & g_{24} \\\\\n",
    "  g_{31} & g_{32} & g_{33} & g_{34} \\\\\n",
    "  g_{41} & g_{42} & g_{43} & g_{44} \\\\\n",
    "  \\end{pmatrix} =\n",
    "  \\begin{pmatrix} \n",
    "  1 & 0 & 0 & 0 \\\\ \n",
    "  0 & 1 & 0 & 0 \\\\\n",
    "  0 & 0 & 1 & 0 \\\\\n",
    "  0 & 0 & 0 & 1 \\\\\n",
    "  \\end{pmatrix} =I\n",
    "}$$"
   ]
  },
  {
   "cell_type": "markdown",
   "id": "39b15322-2572-451f-8411-46a5e2d4684e",
   "metadata": {},
   "source": [
    "$$\\eqalign{\n",
    "g^{\\mu\\rho}g_{\\rho\\nu} & = g^{\\mu 1}g_{1\\nu} + g^{\\mu 2}g_{2\\nu} + g^{\\mu 3}g_{3\\nu} + g^{\\mu 4}g_{4\\nu} = \\delta ^\\mu_\\nu\n",
    "}$$"
   ]
  },
  {
   "cell_type": "markdown",
   "id": "3bf74f39-392e-4801-89e4-967cec2f019c",
   "metadata": {},
   "source": [
    "The Riemann tensor $R^\\kappa_{\\lambda\\mu\\nu}$ is defined as"
   ]
  },
  {
   "cell_type": "markdown",
   "id": "aba30df2-4664-40d2-b32b-77b2275b361f",
   "metadata": {},
   "source": [
    "$$\\eqalign{\n",
    "R^\\kappa_{\\lambda\\mu\\nu} & = \\frac{\\partial \\Gamma^\\kappa_{\\lambda\\nu}}{\\partial x^\\mu} - \\frac{\\partial \\Gamma^\\kappa_{\\lambda\\mu}}{\\partial x^\\nu} \\\\\n",
    "& + \\Gamma^1_{\\lambda\\nu}\\Gamma^\\kappa_{1\\mu} - \\Gamma^1_{\\lambda\\mu}\\Gamma^\\kappa_{1\\nu} \\\\\n",
    "& + \\Gamma^2_{\\lambda\\nu}\\Gamma^\\kappa_{2\\mu} - \\Gamma^2_{\\lambda\\mu}\\Gamma^\\kappa_{2\\nu} \\\\\n",
    "& + \\Gamma^3_{\\lambda\\nu}\\Gamma^\\kappa_{3\\mu} - \\Gamma^3_{\\lambda\\mu}\\Gamma^\\kappa_{3\\nu} \\\\\n",
    "& + \\Gamma^4_{\\lambda\\nu}\\Gamma^\\kappa_{1\\mu} - \\Gamma^4_{\\lambda\\mu}\\Gamma^\\kappa_{4\\nu} \\\\\n",
    "& = \\frac{\\partial \\Gamma^\\kappa_{\\lambda\\nu}}{\\partial x^\\mu} - \\frac{\\partial \\Gamma^\\kappa_{\\lambda\\mu}}{\\partial x^\\nu} + \\sum_{\\tau=1}^4\\Gamma^\\tau_{\\lambda\\nu}\\Gamma^\\kappa_{\\tau\\mu} - \\sum_{\\tau=1}^4\\Gamma^\\tau_{\\lambda\\mu}\\Gamma^\\kappa_{\\tau\\nu}\\\\\n",
    "& = \\partial_\\mu \\Gamma^\\kappa_{\\lambda\\nu} - \\partial_\\nu \\Gamma^\\kappa_{\\lambda\\mu} + \\Gamma^\\tau_{\\lambda\\nu}\\Gamma^\\kappa_{\\tau\\mu} - \\Gamma^\\tau_{\\lambda\\mu}\\Gamma^\\kappa_{\\tau\\nu} \\ \\text{(Einstein summation notation)}\n",
    "}$$"
   ]
  },
  {
   "cell_type": "markdown",
   "id": "46ee52bb-c3e6-4424-b9a8-197de4c2b087",
   "metadata": {},
   "source": [
    "The Ricci curvature tensor $R_{\\mu\\nu}$ is a contracted form of a Riemann tensor"
   ]
  },
  {
   "cell_type": "markdown",
   "id": "5483315f-705f-4f2b-86f3-0c067c8e6591",
   "metadata": {},
   "source": [
    "$$\\eqalign{\n",
    "R_{\\mu\\nu} & = R^\\lambda_{\\mu\\lambda\\nu}\\\\\n",
    "& = \\frac{\\partial \\Gamma^m_{\\mu\\nu}}{\\partial x^m} - \\frac{\\partial \\Gamma^n_{\\mu n}}{\\partial x^\\nu} + \\Gamma^m_{\\mu\\nu}\\Gamma^n_{mn} - \\Gamma^m_{\\mu n}\\Gamma^n_{m\\nu} \\ \\text{(Einstein summation notation)} \\\\\n",
    "& = \\sum^4_{m=1} \\frac{\\partial \\Gamma^m_{\\mu\\nu}}{\\partial x^m} - \\sum^4_{n=1} \\frac{\\partial \\Gamma^n_{\\mu n}}{\\partial x^\\nu} + \\sum^4_{m=1}\\sum^4_{n=1}\\Gamma^m_{\\mu\\nu}\\Gamma^n_{mn} - \\sum^4_{m=1}\\sum^4_{n=1}\\Gamma^m_{\\mu n}\\Gamma^n_{m\\nu}\n",
    "}$$"
   ]
  },
  {
   "cell_type": "markdown",
   "id": "a670c9ad-62fc-471d-a84d-1a43cb2b5d7e",
   "metadata": {},
   "source": [
    "where the Christoffel symbol $\\Gamma^\\lambda_{\\mu\\nu}$ is defined as"
   ]
  },
  {
   "cell_type": "markdown",
   "id": "b0c43176-7517-4ea2-8438-6f519e4e4481",
   "metadata": {},
   "source": [
    "$$\\eqalign{\n",
    "\\Gamma^\\lambda_{\\mu\\nu} & = \\sum_{\\rho=1}^4 \\frac{1}{2}g^{\\lambda\\rho}\\left(\\frac{\\partial g_{\\rho\\nu}}{\\partial x^\\mu} + \\frac{\\partial g_{\\rho\\mu}}{\\partial x^\\nu} - \\frac{\\partial g_{\\mu\\nu}}{\\partial x^\\rho} \\right)\\\\\n",
    "& = \\frac{1}{2}g^{\\lambda 1}\\left(\\frac{\\partial g_{1\\nu}}{\\partial x^\\mu} + \\frac{\\partial g_{1 \\mu}}{\\partial x^\\nu} - \\frac{\\partial g_{\\mu\\nu}}{\\partial x^1} \\right) \\\\\n",
    "& + \\frac{1}{2}g^{\\lambda 2}\\left(\\frac{\\partial g_{2\\nu}}{\\partial x^\\mu} + \\frac{\\partial g_{2 \\mu}}{\\partial x^\\nu} - \\frac{\\partial g_{\\mu\\nu}}{\\partial x^2} \\right) \\\\\n",
    "& + \\frac{1}{2}g^{\\lambda 3}\\left(\\frac{\\partial g_{3\\nu}}{\\partial x^\\mu} + \\frac{\\partial g_{3 \\mu}}{\\partial x^\\nu} - \\frac{\\partial g_{\\mu\\nu}}{\\partial x^3} \\right) \\\\\n",
    "& + \\frac{1}{2}g^{\\lambda 4}\\left(\\frac{\\partial g_{4\\nu}}{\\partial x^\\mu} + \\frac{\\partial g_{4 \\mu}}{\\partial x^\\nu} - \\frac{\\partial g_{\\mu\\nu}}{\\partial x^4} \\right) \\\\\n",
    "}$$"
   ]
  },
  {
   "cell_type": "markdown",
   "id": "3be2ae1f-83ec-4354-9640-0453bab5f8d9",
   "metadata": {},
   "source": [
    "The Ricci scalar curvature $R$ is defined as the trace of the Ricci tensor"
   ]
  },
  {
   "cell_type": "markdown",
   "id": "0255fb2b-b8ed-4c6e-ad84-2cb4803a9d41",
   "metadata": {},
   "source": [
    "$$\\eqalign{\n",
    "R & = R^1_1 + R^2_2 + R^3_3 + R^4_4 \\\\\n",
    "  & = g^{11}R_{11} + g^{12}R_{12} + g^{13}R_{13} + g^{14}R_{14} \\\\\n",
    "  & = g^{21}R_{21} + g^{22}R_{22} + g^{23}R_{23} + g^{24}R_{24} \\\\\n",
    "  & = g^{31}R_{31} + g^{32}R_{32} + g^{33}R_{33} + g^{34}R_{34} \\\\\n",
    "  & = g^{41}R_{41} + g^{42}R_{42} + g^{43}R_{43} + g^{44}R_{44} \\\\\n",
    "  & = \\sum_{\\mu=1}^4 \\sum_{\\nu=1}^4 g^{\\mu\\nu}R_{\\mu\\nu} \\\\\n",
    "  & = g^{\\mu\\nu}R_{\\mu\\nu} \\ \\text{(Einstein summation notation)}\n",
    "}$$"
   ]
  },
  {
   "cell_type": "code",
   "execution_count": null,
   "id": "f0a59664-e832-4446-9885-19f6aad1bdcd",
   "metadata": {},
   "outputs": [],
   "source": []
  }
 ],
 "metadata": {
  "kernelspec": {
   "display_name": "Qiskit (stable)",
   "language": "python",
   "name": "qiskit-stable"
  },
  "language_info": {
   "codemirror_mode": {
    "name": "ipython",
    "version": 3
   },
   "file_extension": ".py",
   "mimetype": "text/x-python",
   "name": "python",
   "nbconvert_exporter": "python",
   "pygments_lexer": "ipython3",
   "version": "3.9.17"
  }
 },
 "nbformat": 4,
 "nbformat_minor": 5
}
