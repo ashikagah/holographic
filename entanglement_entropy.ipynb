{
 "cells": [
  {
   "cell_type": "markdown",
   "id": "f1256c9c-a351-4f8c-b8d7-e769a295a427",
   "metadata": {},
   "source": [
    "# <center>__Entanglement Entropy__</center>"
   ]
  },
  {
   "cell_type": "markdown",
   "id": "fdf63792-dfe9-4459-9aa7-21ee11364532",
   "metadata": {},
   "source": [
    "## __Definition__"
   ]
  },
  {
   "cell_type": "markdown",
   "id": "54bad038-a450-4298-bd7d-fe10eada2e56",
   "metadata": {},
   "source": [
    "When a quantum system is divided into two subsystems $A$ and $B$, the total Hilbert space becomes factorized."
   ]
  },
  {
   "cell_type": "markdown",
   "id": "013b896d-b372-433a-8a7c-e7f0ebc7334d",
   "metadata": {},
   "source": [
    "$$ \n",
    "\\begin{equation}\n",
    "\\mathcal{H}_{AB}=\\mathcal{H}_A \\otimes \\mathcal{H}_B\n",
    "\\end{equation}\n",
    "$$"
   ]
  },
  {
   "cell_type": "markdown",
   "id": "ac4e89c6-93ce-42da-8546-8384316f9f9c",
   "metadata": {},
   "source": [
    "The density matrix $\\rho_{AB}$ of the full system $\\mathcal{H}_{AB}$ is given by"
   ]
  },
  {
   "cell_type": "markdown",
   "id": "7d3aa8b0-789c-4f1d-bf00-ac11ff4f90ff",
   "metadata": {},
   "source": [
    "$$ \n",
    "\\begin{equation}\n",
    "\\rho_{AB}=\\ket{\\psi_{AB}} \\bra{\\psi_{AB}}\n",
    "\\end{equation}\n",
    "$$"
   ]
  },
  {
   "cell_type": "markdown",
   "id": "e1041641-52bc-4165-b7aa-cff5c84f2a07",
   "metadata": {},
   "source": [
    "for a pure state using a wave function $\\ket{\\psi_{AB}}$. The reduced density matrix of the subsystem is defined by the partial trace"
   ]
  },
  {
   "cell_type": "markdown",
   "id": "c6b800f1-be14-46a7-96b9-977ad38ec725",
   "metadata": {},
   "source": [
    "$$\\eqalign{\n",
    "\\rho_A & =\\mathrm{Tr}_{B} (\\rho_{AB}) \\\\\n",
    "\\rho_B & =\\mathrm{Tr}_{A} (\\rho_{AB})\n",
    "}$$"
   ]
  },
  {
   "cell_type": "markdown",
   "id": "5c90bd84-a952-4c69-9132-d42d63d8f0ce",
   "metadata": {},
   "source": [
    "The __entanglement entropy__ $S$ is the von Neumann entropy of the reduced density matrix"
   ]
  },
  {
   "cell_type": "markdown",
   "id": "3f8a4132-d151-4e18-95e8-304f9090931e",
   "metadata": {},
   "source": [
    "$$\\eqalign{\n",
    "S(\\rho_A) & = -\\mathrm{Tr} (\\rho_A \\log \\rho_A) \\\\\n",
    "S(\\rho_B) & = -\\mathrm{Tr} (\\rho_B \\log \\rho_B)\n",
    "}$$"
   ]
  },
  {
   "cell_type": "markdown",
   "id": "8a4d565f-97d6-413e-a5aa-6ac29b360715",
   "metadata": {},
   "source": [
    "When the full system $\\mathcal{H}_{AB}$ is a __pure state__, $S(\\rho_A)=S(\\rho_B)$. The entanglement entropy <u>does</u> quantify the degree of quantum entanglement between the subsystems $A$ and $B$. The entanglement entropy also quantifies how quantum information is stored in a quantum state."
   ]
  },
  {
   "cell_type": "markdown",
   "id": "c2ee0c87-21d7-47a5-8bbd-29672364f9c5",
   "metadata": {},
   "source": [
    "When the full system $\\mathcal{H}_{AB}$ is a __mixed state__, $S(\\rho_A)\\neq S(\\rho_B)$. The entanglement entropy <u>does not</u> quantfy the degree of quantum entanglement between the subsystems $A$ and $B$."
   ]
  },
  {
   "cell_type": "markdown",
   "id": "2cbe0ec1-e352-452d-9bb7-c21818bc9e55",
   "metadata": {},
   "source": [
    "----------------------------------------------------------------------------------------------------------------------"
   ]
  },
  {
   "cell_type": "markdown",
   "id": "5c2f2392-52e1-4e37-8016-0db40f2de0f0",
   "metadata": {},
   "source": [
    "## __Examples__"
   ]
  },
  {
   "cell_type": "code",
   "execution_count": 1,
   "id": "13a76ca8-f4d4-44b1-9297-cf92088b6200",
   "metadata": {},
   "outputs": [],
   "source": [
    "import numpy as np\n",
    "from qiskit.quantum_info import entropy, DensityMatrix"
   ]
  },
  {
   "cell_type": "markdown",
   "id": "71db74b6-7d1f-46a7-898f-a7d66f5a9368",
   "metadata": {},
   "source": [
    "### Example 1: Two-qubit system 1"
   ]
  },
  {
   "cell_type": "markdown",
   "id": "8ccf7690-1f36-4f65-b63a-2e54ac0ec390",
   "metadata": {},
   "source": [
    "Consider a system consisting of two qubits $A$ and $B$"
   ]
  },
  {
   "cell_type": "markdown",
   "id": "ac648d16-2a7e-4bfe-864a-fe9668d66db0",
   "metadata": {},
   "source": [
    "$$\\eqalign{\n",
    "\\psi_A & = \\frac{1}{\\sqrt{2}}(\\ket{0}_A + \\ket{1}_A) \\\\\n",
    "\\psi_B & = \\frac{1}{\\sqrt{2}}(\\ket{0}_B+\\ket{1}_B)\n",
    "}$$"
   ]
  },
  {
   "cell_type": "markdown",
   "id": "7286c049-0164-4eb4-9aa3-fd63aa08f8ee",
   "metadata": {},
   "source": [
    "The quantum state $\\psi_{AB}$ of the full system $\\mathcal{H}_{AB}$ is given by"
   ]
  },
  {
   "cell_type": "markdown",
   "id": "d99083ea-2695-4803-bfd6-043709894db6",
   "metadata": {},
   "source": [
    "$$\\eqalign{\n",
    "\\psi_{AB} & = \\frac{1}{2}(\\ket{0}_A+\\ket{1}_A) \\otimes (\\ket{0}_B + \\ket{1}_B) \\\\\n",
    "          & = \\frac{1}{2}(\\ket{0_A 0_B} + \\ket{0_A 1_B} + \\ket{1_A 0_B} + \\ket{1_A 1_B})\n",
    "}$$"
   ]
  },
  {
   "cell_type": "markdown",
   "id": "fc2a65a5-78a4-4f81-ab29-726863f21386",
   "metadata": {},
   "source": [
    "The density matrix $\\rho_{AB}$ of the full system $\\mathcal{H}_{AB}$ is given by"
   ]
  },
  {
   "cell_type": "markdown",
   "id": "76858d47-1088-4a14-a663-b508f4490766",
   "metadata": {},
   "source": [
    "$$\\eqalign{\n",
    "\\rho_{AB} & = \\ket{\\psi_{AB}} \\bra{\\psi_{AB}} \\\\\n",
    "          & = \\frac{1}{4}(\\ket{0_A 0_B} + \\ket{0_A 1_B} + \\ket{1_A 0_B} + \\ket{1_A 1_B}) \\otimes (\\bra{0_A 0_B} + \\bra{0_A 1_B} + \\bra{1_A 0_B} + \\bra{1_A 1_B}) \\\\\n",
    "          & = \\frac{1}{4}(\\ket{0_A 0_B}\\bra{0_A 0_B} + \\ket{0_A 1_B}\\bra{0_A 0_B} + \\ket{1_A 0_B}\\bra{0_A 0_B} + \\ket{1_A 1_B}\\bra{0_A 0_B} \\\\\n",
    "          & + \\ket{0_A 0_B}\\bra{0_A 1_B} + \\ket{0_A 1_B}\\bra{0_A 1_B} + \\ket{1_A 0_B}\\bra{0_A 1_B} + \\ket{1_A 1_B}\\bra{0_A 1_B} \\\\\n",
    "          & + \\ket{0_A 0_B}\\bra{1_A 0_B} + \\ket{0_A 1_B}\\bra{1_A 0_B} + \\ket{1_A 0_B}\\bra{1_A 0_B} + \\ket{1_A 1_B}\\bra{1_A 0_B} \\\\\n",
    "          & + \\ket{0_A 0_B}\\bra{1_A 1_B} + \\ket{0_A 1_B}\\bra{1_A 1_B} + \\ket{1_A 0_B}\\bra{1_A 1_B} + \\ket{1_A 1_B}\\bra{1_A 1_B})\n",
    "}$$"
   ]
  },
  {
   "cell_type": "markdown",
   "id": "05c5ee8e-1adc-48c6-a57a-5cb0d1be613e",
   "metadata": {},
   "source": [
    "The reduced density matrix $\\rho_A$ of the subsystem $A$ is defined by the partial trace $B$ of the density matrix $\\rho_{AB}$"
   ]
  },
  {
   "cell_type": "markdown",
   "id": "7ec6a9c6-6271-4471-ae8c-c3bcf20cdd87",
   "metadata": {},
   "source": [
    "$$\\eqalign{\n",
    "\\rho_A & = \\mathrm{Tr}_{B} (\\rho_{AB}) \\\\\n",
    "       & = \\frac{1}{4}[\\mathrm{Tr}_{B}(\\ket{0_A 0_B}\\bra{0_A 0_B}) + \\mathrm{Tr}_{B}(\\ket{0_A 1_B}\\bra{0_A 0_B}) + \\mathrm{Tr}_{B}(\\ket{1_A 0_B}\\bra{0_A 0_B}) + \\mathrm{Tr}_{B}(\\ket{1_A 1_B}\\bra{0_A 0_B}) \\\\\n",
    "          & + \\mathrm{Tr}_{B}(\\ket{0_A 0_B}\\bra{0_A 1_B}) + \\mathrm{Tr}_{B}(\\ket{0_A 1_B}\\bra{0_A 1_B}) + \\mathrm{Tr}_{B}(\\ket{1_A 0_B}\\bra{0_A 1_B}) + \\mathrm{Tr}_{B}(\\ket{1_A 1_B}\\bra{0_A 1_B}) \\\\\n",
    "          & + \\mathrm{Tr}_{B}(\\ket{0_A 0_B}\\bra{1_A 0_B}) + \\mathrm{Tr}_{B}(\\ket{0_A 1_B}\\bra{1_A 0_B}) + \\mathrm{Tr}_{B}(\\ket{1_A 0_B}\\bra{1_A 0_B}) + \\mathrm{Tr}_{B}(\\ket{1_A 1_B}\\bra{1_A 0_B}) \\\\\n",
    "          & + \\mathrm{Tr}_{B}(\\ket{0_A 0_B}\\bra{1_A 1_B}) + \\mathrm{Tr}_{B}(\\ket{0_A 1_B}\\bra{1_A 1_B}) + \\mathrm{Tr}_{B}(\\ket{1_A 0_B}\\bra{1_A 1_B}) + \\mathrm{Tr}_{B}\\ket{1_A 1_B}\\bra{1_A 1_B}]\n",
    "}$$"
   ]
  },
  {
   "cell_type": "markdown",
   "id": "890ee921-d6a2-4624-86fc-e066cb05ea35",
   "metadata": {},
   "source": [
    "The subsystems can be broken down as follows"
   ]
  },
  {
   "cell_type": "markdown",
   "id": "fa3a5b91-72f9-4636-8308-d8bff787bb84",
   "metadata": {},
   "source": [
    "$$\\eqalign{\n",
    "    \\ket{0_A 0_B}\\bra{0_A 0_B} & = (\\ket{0_A} \\otimes \\ket{0_B}) \\otimes (\\bra{0_A} \\otimes \\bra{0_B})  \\\\\n",
    "    & = \\ket{0_A} \\otimes \\ket{0_B} \\otimes \\bra{0_A} \\otimes \\bra{0_B} \\\\\n",
    "    & = \\ket{0_A} \\otimes \\bra{0_A} \\otimes \\ket{0_B} \\otimes \\bra{0_B} \\\\\n",
    "    & = \\ket{0_A} \\bra{0_A} \\otimes \\ket{0_B} \\bra{0_B}\n",
    "}$$"
   ]
  },
  {
   "cell_type": "markdown",
   "id": "870a56e8-08e9-4fe7-8e82-19a1c2d51a3e",
   "metadata": {},
   "source": [
    "Therefore"
   ]
  },
  {
   "cell_type": "markdown",
   "id": "66840d05-c9c1-492c-a06e-317882bee243",
   "metadata": {},
   "source": [
    "$$\\eqalign{\n",
    "\\rho_A & = \\frac{1}{4}[\\mathrm{Tr}_{B}(\\ket{0_A}\\bra{0_A}\\otimes \\ket{0_B}\\bra{0_B}) + \\mathrm{Tr}_{B}(\\ket{0_A}\\bra{0_A}\\otimes \\ket{1_B}\\bra{0_B}) + \\mathrm{Tr}_{B}(\\ket{1_A}\\bra{0_A}\\otimes \\ket{0_B}\\bra{0_B}) + \\mathrm{Tr}_{B}(\\ket{1_A}\\bra{0_A}\\otimes \\ket{1_B}\\bra{0_B}) \\\\\n",
    "& + \\mathrm{Tr}_{B}(\\ket{0_A}\\bra{0_A}\\otimes \\ket{0_B}\\bra{1_B}) + \\mathrm{Tr}_{B}(\\ket{0_A}\\bra{0_A}\\otimes \\ket{1_B}\\bra{1_B}) + \\mathrm{Tr}_{B}(\\ket{1_A}\\bra{0_A}\\otimes \\ket{0_B}\\bra{1_B}) + \\mathrm{Tr}_{B}(\\ket{1_A}\\bra{0_A}\\otimes \\ket{1_B}\\bra{1_B}) \\\\\n",
    "& + \\mathrm{Tr}_{B}(\\ket{0_A}\\bra{1_A}\\otimes \\ket{0_B}\\bra{0_B}) + \\mathrm{Tr}_{B}(\\ket{0_A}\\bra{1_A}\\otimes \\ket{1_B}\\bra{0_B}) + \\mathrm{Tr}_{B}(\\ket{1_A}\\bra{1_A}\\otimes \\ket{0_B}\\bra{0_B}) + \\mathrm{Tr}_{B}(\\ket{1_A}\\bra{1_A}\\otimes \\ket{1_B}\\bra{0_B}) \\\\\n",
    "& + \\mathrm{Tr}_{B}(\\ket{0_A}\\bra{1_A}\\otimes \\ket{0_B}\\bra{1_B}) + \\mathrm{Tr}_{B}(\\ket{0_A}\\bra{1_A}\\otimes \\ket{1_B}\\bra{1_B}) + \\mathrm{Tr}_{B}(\\ket{1_A}\\bra{1_A}\\otimes \\ket{0_B}\\bra{1_B}) + \\mathrm{Tr}_{B}(\\ket{1_A}\\bra{1_A}\\otimes \\ket{1_B}\\bra{1_B})] \\\\\n",
    "& = \\frac{1}{4}[\\ket{0_A}\\bra{0_A}\\otimes \\mathrm{Tr}_{B}(\\ket{0_B}\\bra{0_B}) + \\ket{0_A}\\bra{0_A} \\otimes \\mathrm{Tr}_{B}(\\ket{1_B}\\bra{0_B}) + \\ket{1_A}\\bra{0_A}\\otimes \\mathrm{Tr}_{B}(\\ket{0_B}\\bra{0_B}) + \\ket{1_A}\\bra{0_A}\\otimes \\mathrm{Tr}_{B}(\\ket{1_B}\\bra{0_B}) \\\\\n",
    "& + \\ket{0_A}\\bra{0_A}\\otimes \\mathrm{Tr}_{B}(\\ket{0_B}\\bra{1_B}) + \\ket{0_A}\\bra{0_A}\\otimes \\mathrm{Tr}_{B}(\\ket{1_B}\\bra{1_B}) + \\ket{1_A}\\bra{0_A}\\otimes \\mathrm{Tr}_{B}(\\ket{0_B}\\bra{1_B}) + \\ket{1_A}\\bra{0_A}\\otimes \\mathrm{Tr}_{B}(\\ket{1_B}\\bra{1_B}) \\\\\n",
    "& + \\ket{0_A}\\bra{1_A}\\otimes \\mathrm{Tr}_{B}(\\ket{0_B}\\bra{0_B}) + \\ket{0_A}\\bra{1_A}\\otimes \\mathrm{Tr}_{B}(\\ket{1_B}\\bra{0_B}) + \\ket{1_A}\\bra{1_A}\\otimes \\mathrm{Tr}_{B}(\\ket{0_B}\\bra{0_B}) + \\ket{1_A}\\bra{1_A}\\otimes \\mathrm{Tr}_{B}(\\ket{1_B}\\bra{0_B}) \\\\\n",
    "& + \\ket{0_A}\\bra{1_A}\\otimes \\mathrm{Tr}_{B}(\\ket{0_B}\\bra{1_B}) + \\ket{0_A}\\bra{1_A}\\otimes \\mathrm{Tr}_{B}(\\ket{1_B}\\bra{1_B}) + \\ket{1_A}\\bra{1_A}\\otimes \\mathrm{Tr}_{B}(\\ket{0_B}\\bra{1_B}) + \\ket{1_A}\\bra{1_A}\\otimes \\mathrm{Tr}_{B}(\\ket{1_B}\\bra{1_B})]\n",
    "}$$"
   ]
  },
  {
   "cell_type": "markdown",
   "id": "96147dde-66ee-43ad-899c-fa649fbef5ca",
   "metadata": {},
   "source": [
    "By the way, when $k$ is an arbitrary orthonormal basis, the trace of the outer product of two states is equal to the inner product of the two states"
   ]
  },
  {
   "cell_type": "markdown",
   "id": "4c9ae2c2-fef6-4579-9da3-23027867418e",
   "metadata": {},
   "source": [
    "$$\\eqalign{\n",
    "\\mathrm{Tr}(\\ket{X}\\bra{Y}) & = \\sum_k \\braket{k|X}\\braket{Y|k} \\\\\n",
    "                      & = \\sum_k \\braket{Y|k}\\braket{k|X} \\\\\n",
    "                      & = \\bra{Y} {\\sum_k \\ket{k}\\bra{k}} \\ket{X} \\\\\n",
    "                      & = \\braket{Y|X}\n",
    "}$$"
   ]
  },
  {
   "cell_type": "markdown",
   "id": "45cf4f13-8fe3-4b21-80ac-c4d1225f6cf7",
   "metadata": {},
   "source": [
    "Therefore"
   ]
  },
  {
   "cell_type": "markdown",
   "id": "93c842c1-a57b-4a54-9b69-351098848420",
   "metadata": {},
   "source": [
    "$$\\eqalign{\n",
    "\\rho_A & = \\frac{1}{4}[\\ket{0_A}\\bra{0_A}\\otimes \\braket{0_B|0_B} + \\cancel{\\ket{0_A}\\bra{0_A} \\otimes \\braket{0_B|1_B}} + \\ket{1_A}\\bra{0_A}\\otimes \\braket{0_B|0_B} + \\cancel{\\ket{1_A}\\bra{0_A}\\otimes \\braket{0_B|1_B}} \\\\\n",
    "& + \\cancel{\\ket{0_A}\\bra{0_A}\\otimes \\braket{1_B|0_B}} + \\ket{0_A}\\bra{0_A}\\otimes \\braket{1_B|1_B} + \\cancel{\\ket{1_A}\\bra{0_A}\\otimes \\braket{1_B|0_B}} + \\ket{1_A}\\bra{0_A}\\otimes \\braket{1_B|1_B} \\\\\n",
    "& + \\ket{0_A}\\bra{1_A}\\otimes \\braket{0_B|0_B} + \\cancel{\\ket{0_A}\\bra{1_A}\\otimes \\braket{0_B|1_B}} + \\ket{1_A}\\bra{1_A}\\otimes \\braket{0_B|0_B} + \\cancel{\\ket{1_A}\\bra{1_A}\\otimes \\braket{0_B|1_B}} \\\\\n",
    "& + \\cancel{\\ket{0_A}\\bra{1_A}\\otimes \\braket{1_B|0_B}} + \\ket{0_A}\\bra{1_A}\\otimes \\braket{1_B|1_B} + \\cancel{\\ket{1_A}\\bra{1_A}\\otimes \\braket{1_B|0_B}} + \\ket{1_A}\\bra{1_A}\\otimes \\braket{1_B|1_B}] \\\\\n",
    "& = \\frac{1}{2}(\\ket{0_A}\\bra{0_A} + \\ket{0_A}\\bra{1_A} + \\ket{1_A}\\bra{0_A} + \\ket{1_A}\\bra{1_A}) \\\\\n",
    "& = \\frac{1}{2}(\\ket{0_A} + \\ket{1_A}) \\cdot (\\bra{0_A} + \\bra{1_A}) \\\\\n",
    "& = \\frac{1}{2} \\begin{pmatrix} \n",
    "    1 \\\\ \n",
    "    1\n",
    "    \\end{pmatrix} \n",
    "    \\cdot\n",
    "    \\begin{pmatrix} \n",
    "    1 & 1\\\\ \n",
    "    \\end{pmatrix} \\\\\n",
    "& = \\frac{1}{2} \\begin{pmatrix} \n",
    "     1 & 1 \\\\ \n",
    "    1  & 1 \n",
    "    \\end{pmatrix}\n",
    "}$$"
   ]
  },
  {
   "cell_type": "code",
   "execution_count": 2,
   "id": "42d8f433-792f-4d75-92e3-7390bcb5e2be",
   "metadata": {},
   "outputs": [
    {
     "name": "stdout",
     "output_type": "stream",
     "text": [
      "DensityMatrix([[0.5+0.j, 0.5+0.j],\n",
      "               [0.5+0.j, 0.5+0.j]],\n",
      "              dims=(2,))\n"
     ]
    }
   ],
   "source": [
    "# Describe the reduced density matrix of the subsystem A as DensityMatrix object\n",
    "r_A = DensityMatrix([[1/2, 1/2], [1/2, 1/2]]) \n",
    "print(r_A)"
   ]
  },
  {
   "cell_type": "markdown",
   "id": "0c671583-32ed-4da3-b906-104aab1623d6",
   "metadata": {},
   "source": [
    "Let $\\lambda$ be the eigenvalues of the reduced density matrix $\\rho_A$. "
   ]
  },
  {
   "cell_type": "markdown",
   "id": "fe5a4df4-b93e-4383-addd-ae92764d4483",
   "metadata": {},
   "source": [
    "$$\n",
    "\\begin{gather}\n",
    "\\rho - \\lambda I  = \\frac{1}{2} \\begin{pmatrix} \n",
    "  1  & 1 \\\\ \n",
    "  1  & 1 \n",
    "  \\end{pmatrix}-\n",
    "\\begin{pmatrix} \n",
    "  \\lambda  & 0 \\\\ \n",
    "  0  & \\lambda \n",
    "  \\end{pmatrix}\n",
    "   = \\begin{pmatrix} \n",
    "  \\frac{1}{2}-\\lambda  & \\frac{1}{2} \\\\ \n",
    "  \\frac{1}{2}  & \\frac{1}{2}-\\lambda \n",
    "  \\end{pmatrix} \\\\\n",
    "  \\det (\\rho - \\lambda I)  = \\begin{vmatrix} \n",
    "  \\frac{1}{2}-\\lambda  & \\frac{1}{2} \\\\ \n",
    "  \\frac{1}{2}  & \\frac{1}{2}-\\lambda \n",
    "  \\end{vmatrix}\n",
    "   = (\\frac{1}{2}-\\lambda)^2 - \\frac{1}{4} = 0 \\\\\n",
    "  \\lambda(\\lambda-1) = 0 \\\\\n",
    "  \\lambda = 0, 1\n",
    "\\end{gather}\n",
    "$$"
   ]
  },
  {
   "cell_type": "markdown",
   "id": "ee27a13b-850e-4cf7-90c2-6a487d35ac81",
   "metadata": {},
   "source": [
    "Therefore, entanglement entropy $S(\\rho_A)$ is given by"
   ]
  },
  {
   "cell_type": "markdown",
   "id": "1fc178b5-a203-4282-ac7d-92add8ccca67",
   "metadata": {},
   "source": [
    "$$\\eqalign{\n",
    "S(\\rho_A) & = -\\mathrm{Tr}(\\rho_A\\log\\rho_A) \\\\\n",
    "        & = -\\sum_i \\lambda_i\\log\\lambda_i \\\\\n",
    "        & = -0\\log{0} - 1\\log{1}\n",
    "        & = 0\n",
    "}$$"
   ]
  },
  {
   "cell_type": "code",
   "execution_count": 3,
   "id": "0b6bd32a-deb6-4276-aa0c-a638f05f248c",
   "metadata": {},
   "outputs": [
    {
     "name": "stdout",
     "output_type": "stream",
     "text": [
      "7.7093068663413005e-31\n"
     ]
    }
   ],
   "source": [
    "# Calculate entanglement entropy of the subsystem A\n",
    "s_A = entropy(r_A)\n",
    "print(s_A)"
   ]
  },
  {
   "cell_type": "markdown",
   "id": "f66e52e5-72cf-4efd-9456-7d35970b764b",
   "metadata": {},
   "source": [
    "### Example 2: Two-qubit system 2"
   ]
  },
  {
   "cell_type": "markdown",
   "id": "d26f6ca7-ea28-4441-aea6-48882622a923",
   "metadata": {},
   "source": [
    "Consider a system consisting of two qubits $A$ and $B$, where $\\psi_{AB}$ of the full system $\\mathcal{H}_{AB}$ is given by"
   ]
  },
  {
   "cell_type": "markdown",
   "id": "250f9c71-a3d1-430f-8e54-4438c343d53a",
   "metadata": {},
   "source": [
    "$$\\eqalign{\n",
    "\\psi_{AB} = \\frac{1}{\\sqrt{2}}(\\ket{0_A 1_B} + \\ket{1_A 0_B})\n",
    "}$$"
   ]
  },
  {
   "cell_type": "markdown",
   "id": "e74769f6-4c9c-4a97-971a-03404cbe8e0f",
   "metadata": {},
   "source": [
    "The density matrix $\\rho_{AB}$ of the full system $\\mathcal{H}_{AB}$ is given by"
   ]
  },
  {
   "cell_type": "markdown",
   "id": "771c98c6-99f6-4694-8718-646df968b1b2",
   "metadata": {},
   "source": [
    "$$\\eqalign{\n",
    "\\rho_{AB} & = \\ket{\\psi_{AB}} \\bra{\\psi_{AB}} \\\\\n",
    "          & = \\frac{1}{2}(\\ket{0_A 1_B} + \\ket{1_A 0_B}) \\otimes (\\bra{0_A 1_B} + \\bra{1_A 0_B}) \\\\\n",
    "          & = \\frac{1}{2}(\\ket{0_A 1_B}\\bra{0_A 1_B} + \\ket{0_A 1_B}\\bra{1_A 0_B} + \\ket{1_A 0_B}\\bra{0_A 1_B} + \\ket{1_A 0_B}\\bra{1_A 0_B})\n",
    "}$$"
   ]
  },
  {
   "cell_type": "markdown",
   "id": "51808e0f-f0f5-4773-baa9-d5ed23d62a8c",
   "metadata": {},
   "source": [
    "The reduced density matrix $\\rho_A$ of the subsystem $A$ is defined by the partial trace $B$ of the density matrix $\\rho_{AB}$"
   ]
  },
  {
   "cell_type": "markdown",
   "id": "db40d4a1-bcbe-4fdf-8fec-734fad47a6c8",
   "metadata": {},
   "source": [
    "$$\\eqalign{\n",
    "\\rho_A & = \\mathrm{Tr}_{B} (\\rho_{AB}) \\\\\n",
    "       & = \\frac{1}{2}[\\mathrm{Tr}_{B}(\\ket{0_A 1_B}\\bra{0_A 1_B}) + \\mathrm{Tr}_{B}(\\ket{0_A 1_B}\\bra{1_A 0_B}) + \\mathrm{Tr}_{B}(\\ket{1_A 0_B}\\bra{0_A 1_B}) + \\mathrm{Tr}_{B}(\\ket{1_A 0_B}\\bra{1_A 0_B})]\\\\\n",
    "       & = \\frac{1}{2}[\\mathrm{Tr}_{B}(\\ket{0_A} \\bra{0_A} \\otimes \\ket{1_B}\\bra{1_B}) + \\mathrm{Tr}_{B}(\\ket{0_A} \\bra{1_A} \\otimes \\ket{1_B}\\bra{0_B}) + \\mathrm{Tr}_{B}(\\ket{1_A} \\bra{0_A} \\otimes \\ket{0_B}\\bra{1_B}) + \\mathrm{Tr}_{B}(\\ket{1_A} \\bra{1_A} \\otimes \\ket{0_B}\\bra{0_B})]\\\\\n",
    "       & = \\frac{1}{2}[\\ket{0_A} \\bra{0_A} \\otimes \\mathrm{Tr}_{B}(\\ket{1_B}\\bra{1_B}) + \\ket{0_A} \\bra{1_A} \\otimes \\mathrm{Tr}_{B}(\\ket{1_B}\\bra{0_B}) + \\ket{1_A} \\bra{0_A} \\otimes \\mathrm{Tr}_{B}(\\ket{0_B}\\bra{1_B}) + \\ket{1_A} \\bra{1_A} \\otimes \\mathrm{Tr}_{B}(\\ket{0_B}\\bra{0_B})] \\\\\n",
    "       & = \\frac{1}{2}[\\ket{0_A} \\bra{0_A} \\otimes \\braket{1_B|1_B}) + \\cancel{\\ket{0_A} \\bra{1_A} \\otimes \\braket{0_B|1_B}} + \\cancel{\\ket{1_A} \\bra{0_A} \\otimes \\braket{1_B|0_B})} + \\ket{1_A} \\bra{1_A} \\otimes \\braket{0_B|0_B})] \\\\\n",
    "       & = \\frac{1}{2}[\\ket{0_A} \\bra{0_A} + \\ket{1_A} \\bra{1_A}] \\\\\n",
    "       & = \\frac{1}{2}[ \\begin{pmatrix} \n",
    "    1 \\\\ \n",
    "    0\n",
    "    \\end{pmatrix} \n",
    "    \\cdot\n",
    "    \\begin{pmatrix} \n",
    "    1 & 0\\\\ \n",
    "    \\end{pmatrix} +\n",
    "    \\begin{pmatrix} \n",
    "    0 \\\\ \n",
    "    1\n",
    "    \\end{pmatrix} \n",
    "    \\cdot\n",
    "    \\begin{pmatrix} \n",
    "    0 & 1\\\\ \n",
    "    \\end{pmatrix}]\n",
    "    \\\\\n",
    "& = \\frac{1}{2} \\begin{pmatrix} \n",
    "     1 & 0 \\\\ \n",
    "    0  & 1 \n",
    "    \\end{pmatrix}\n",
    "}$$"
   ]
  },
  {
   "cell_type": "code",
   "execution_count": 4,
   "id": "b5ebe27d-18e8-4d82-8a3d-abeaa4c0cbb1",
   "metadata": {},
   "outputs": [
    {
     "name": "stdout",
     "output_type": "stream",
     "text": [
      "DensityMatrix([[0.5+0.j, 0. +0.j],\n",
      "               [0. +0.j, 0.5+0.j]],\n",
      "              dims=(2,))\n"
     ]
    }
   ],
   "source": [
    "# Describe the reduced density matrix of the subsystem A as DensityMatrix object\n",
    "r_A = DensityMatrix([[1/2, 0], [0, 1/2]]) \n",
    "print(r_A)"
   ]
  },
  {
   "cell_type": "markdown",
   "id": "4b02c082-5dd6-407c-a6cd-a0868af31a89",
   "metadata": {},
   "source": [
    "Calculate eigenvalues $\\lambda$"
   ]
  },
  {
   "cell_type": "markdown",
   "id": "2a93db80-50dc-46de-bbc1-d852f7a2e7df",
   "metadata": {},
   "source": [
    "$$\n",
    "\\begin{gather}\n",
    "\\rho - \\lambda I  = \\frac{1}{2} \\begin{pmatrix} \n",
    "  1  & 0 \\\\ \n",
    "  0  & 1 \n",
    "  \\end{pmatrix}-\n",
    "\\begin{pmatrix} \n",
    "  \\lambda  & 0 \\\\ \n",
    "  0  & \\lambda \n",
    "  \\end{pmatrix}\n",
    "   = \\begin{pmatrix} \n",
    "  \\frac{1}{2}-\\lambda  & 0 \\\\ \n",
    "  0  & \\frac{1}{2}-\\lambda \n",
    "  \\end{pmatrix} \\\\\n",
    "  \\det (\\rho - \\lambda I)  = \\begin{vmatrix} \n",
    "  \\frac{1}{2}-\\lambda  & 0 \\\\ \n",
    "  0  & \\frac{1}{2}-\\lambda \n",
    "  \\end{vmatrix}\n",
    "   = (\\frac{1}{2}-\\lambda)^2 - 0= 0 \\\\\n",
    "  \\lambda = \\frac{1}{2}, \\frac{1}{2}\n",
    "\\end{gather}\n",
    "$$"
   ]
  },
  {
   "cell_type": "markdown",
   "id": "5529b8f3-cd7c-4f65-bed3-6d277c129242",
   "metadata": {},
   "source": [
    "Calculate entanglement entropy $S(\\rho_A)$"
   ]
  },
  {
   "cell_type": "markdown",
   "id": "304f4b09-1fc0-4d95-9f41-7e13bdba1473",
   "metadata": {},
   "source": [
    "$$\\eqalign{\n",
    "S(\\rho_A) & = -\\mathrm{Tr}(\\rho_A\\log\\rho_A) \\\\\n",
    "        & = -\\sum_i \\lambda_i\\log\\lambda_i \\\\\n",
    "        & = -\\frac{1}{2}\\log{\\frac{1}{2}} -\\frac{1}{2}\\log{\\frac{1}{2}} \\\\\n",
    "        & = \\log{2}\n",
    "}$$"
   ]
  },
  {
   "cell_type": "code",
   "execution_count": 5,
   "id": "14a6b931-a4c5-4b70-92d8-d61dbe05f009",
   "metadata": {},
   "outputs": [
    {
     "name": "stdout",
     "output_type": "stream",
     "text": [
      "1.0\n"
     ]
    }
   ],
   "source": [
    "# Calculate entanglement entropy of the subsystem A\n",
    "s_A = entropy(r_A)\n",
    "print(s_A)"
   ]
  },
  {
   "cell_type": "markdown",
   "id": "b541441c-a5db-4140-b5b8-4ec8df75b7a5",
   "metadata": {},
   "source": [
    "### Example 3: Two-qubit system 3"
   ]
  },
  {
   "cell_type": "markdown",
   "id": "332a9fef-ed62-4a73-85fc-61eff18229d6",
   "metadata": {},
   "source": [
    "Consider a system consisting of two qubits $A$ and $B$, where the density matrix $\\rho_{AB}$ of the full system $\\mathcal{H}_{AB}$ is given by"
   ]
  },
  {
   "cell_type": "markdown",
   "id": "197b6894-b87f-46f5-85ca-986ff5d8344a",
   "metadata": {},
   "source": [
    "$$\n",
    "\\rho_{AB} = \\frac{1}{4}\\ket{\\Phi}^+ \\bra{\\Phi}^+ + \\frac{3}{4}\\ket{\\Phi}^- \\bra{\\Phi}^- \n",
    "$$"
   ]
  },
  {
   "cell_type": "markdown",
   "id": "daebbdff-a061-4158-b1ec-ef2c973d145b",
   "metadata": {},
   "source": [
    "where"
   ]
  },
  {
   "cell_type": "markdown",
   "id": "21d272a9-1124-4f20-ac54-84e255cd8297",
   "metadata": {},
   "source": [
    "$$\\eqalign{\n",
    "\\ket{\\Phi}^+ & = \\frac{1}{\\sqrt{2}}(\\ket{0_A 0_B} + \\ket{1_A 1_B}) \\\\\n",
    "\\ket{\\Phi}^- & = \\frac{1}{\\sqrt{2}}(\\ket{0_A 0_B} - \\ket{1_A 1_B})\n",
    "}$$"
   ]
  },
  {
   "cell_type": "markdown",
   "id": "f2b42f2a-65e1-47a3-92d8-749b328c6fbf",
   "metadata": {},
   "source": [
    "The reduced density matrix $\\rho_A$ of the subsystem $A$ is defined by the partial trace $B$ of the density matrix $\\rho_{AB}$"
   ]
  },
  {
   "cell_type": "markdown",
   "id": "e190c83a-e641-4a7a-a97a-219e8a990bfd",
   "metadata": {},
   "source": [
    "$$\\eqalign{\n",
    "\\rho_A & = \\mathrm{Tr}_{B} (\\rho_{AB}) \\\\\n",
    "& = \\frac{1}{4}[\\mathrm{Tr}_{B}(\\ket{\\Phi}^+ \\bra{\\Phi}^+) + 3 \\mathrm{Tr}_{B}(\\ket{\\Phi}^- \\bra{\\Phi}^-)]\\\\\n",
    "}$$"
   ]
  },
  {
   "cell_type": "markdown",
   "id": "3422b564-9352-46cc-9f4d-093f3930775c",
   "metadata": {},
   "source": [
    "where"
   ]
  },
  {
   "cell_type": "markdown",
   "id": "c1e8b511-3f2f-4b86-b0c1-bf715ac657c4",
   "metadata": {},
   "source": [
    "$$\\eqalign{\n",
    "\\mathrm{Tr}_{B}(\\ket{\\Phi}^+ \\bra{\\Phi}^+) & = \\frac{1}{2}\\mathrm{Tr}_{B}(\\ket{0_A 0_B}\\bra{0_A 0_B}+\\ket{0_A 0_B}\\bra{1_A 1_B}+\\ket{1_A 1_B}\\bra{0_A 0_B}+\\ket{1_A 1_B}\\bra{1_A 1_B})\\\\\n",
    "& = \\frac{1}{2}[\\ket{0_A}\\bra{0_A} \\otimes \\mathrm{Tr}_{B}(\\ket{0_B}\\bra{0_B}) + \\ket{0_A} \\bra{1_A} \\otimes \\mathrm{Tr}_{B}(\\ket{0_B}\\bra{1_B}) + \\ket{1_A} \\bra{0_A} \\otimes \\mathrm{Tr}_{B}(\\ket{1_B}\\bra{0_B}) + \\ket{1_A} \\bra{1_A} \\otimes \\mathrm{Tr}_{B}(\\ket{1_B}\\bra{1_B})]\\\\\n",
    "& = \\frac{1}{2}[\\ket{0_A}\\bra{0_A} \\otimes \\braket{0_B|0_B}) + \\cancel{\\ket{0_A}\\bra{1_A} \\otimes \\braket{1_B|0_B}} + \\cancel{\\ket{1_A} \\bra{0_A} \\otimes \\braket{0_B|1_B}}+\\ket{1_A}\\bra{1_A} \\otimes \\braket{1_B|1_B}] \\\\\n",
    "& = \\frac{1}{2}[\\ket{0_A}\\bra{0_A} + \\ket{1_A}\\bra{1_A}] \\\\\n",
    "\\mathrm{Tr}_{B}(\\ket{\\Phi}^- \\bra{\\Phi}^-) & = \\frac{1}{2}[\\ket{0_A} \\bra{0_A} + \\ket{1_A} \\bra{1_A}]\n",
    "}$$"
   ]
  },
  {
   "cell_type": "markdown",
   "id": "20fd5434-a932-4c48-adb4-ade718d4597e",
   "metadata": {},
   "source": [
    "Therefore,"
   ]
  },
  {
   "cell_type": "markdown",
   "id": "464a70d2-88dc-4308-ae13-6fffd83d3ee1",
   "metadata": {},
   "source": [
    "$$\\eqalign{\n",
    "\\rho_A & = \\frac{1}{4}[\\frac{1}{2}(\\ket{0_A}\\bra{0_A} + \\ket{1_A}\\bra{1_A}) + \\frac{3}{2}(\\ket{0_A}\\bra{0_A} + \\ket{1_A}\\bra{1_A})]\\\\\n",
    "& = \\frac{1}{2}(\\ket{0_A}\\bra{0_A} + \\ket{1_A}\\bra{1_A})\\\\\n",
    "       & = \\frac{1}{2}[ \\begin{pmatrix} \n",
    "    1 \\\\ \n",
    "    0\n",
    "    \\end{pmatrix} \n",
    "    \\cdot\n",
    "    \\begin{pmatrix} \n",
    "    1 & 0\\\\ \n",
    "    \\end{pmatrix} +\n",
    "    \\begin{pmatrix} \n",
    "    0 \\\\ \n",
    "    1\n",
    "    \\end{pmatrix} \n",
    "    \\cdot\n",
    "    \\begin{pmatrix} \n",
    "    0 & 1\\\\ \n",
    "    \\end{pmatrix}]\n",
    "    \\\\\n",
    "& = \\frac{1}{2} \\begin{pmatrix} \n",
    "     1 & 0 \\\\ \n",
    "    0  & 1 \n",
    "    \\end{pmatrix}\n",
    "}$$"
   ]
  },
  {
   "cell_type": "code",
   "execution_count": 6,
   "id": "27508bee-76aa-4400-b7f6-d2626597006e",
   "metadata": {},
   "outputs": [
    {
     "name": "stdout",
     "output_type": "stream",
     "text": [
      "DensityMatrix([[0.5+0.j, 0. +0.j],\n",
      "               [0. +0.j, 0.5+0.j]],\n",
      "              dims=(2,))\n"
     ]
    }
   ],
   "source": [
    "# Describe the reduced density matrix of the subsystem A as DensityMatrix object\n",
    "r_A = DensityMatrix([[1/2, 0], [0, 1/2]]) \n",
    "print(r_A)"
   ]
  },
  {
   "cell_type": "markdown",
   "id": "99547af0-6559-43f3-a75e-9fdc9aa7caa1",
   "metadata": {},
   "source": [
    "This is equal to the reduced density matrix in Example 2. Therefore, entanglement entropy $S(\\rho_A)$ is given by"
   ]
  },
  {
   "cell_type": "markdown",
   "id": "f73dff40-f30c-4ffe-ae1f-c86cc98e67f7",
   "metadata": {},
   "source": [
    "$$\\eqalign{\n",
    "S(\\rho_A) & = -\\mathrm{Tr}(\\rho_A\\log\\rho_A) \\\\\n",
    "        & = -\\sum_i \\lambda_i\\log\\lambda_i \\\\\n",
    "        & = -\\frac{1}{2}\\log{\\frac{1}{2}} -\\frac{1}{2}\\log{\\frac{1}{2}} \\\\\n",
    "        & = \\log{2}\n",
    "}$$"
   ]
  },
  {
   "cell_type": "code",
   "execution_count": 7,
   "id": "01b25e33-ae69-4b6c-a2ac-c43824757d2a",
   "metadata": {},
   "outputs": [
    {
     "name": "stdout",
     "output_type": "stream",
     "text": [
      "1.0\n"
     ]
    }
   ],
   "source": [
    "# Calculate entanglement entropy of the subsystem A\n",
    "s_A = entropy(r_A)\n",
    "print(s_A)"
   ]
  },
  {
   "cell_type": "markdown",
   "id": "2fa6efda-a9e3-4d84-a684-3299ff456aa1",
   "metadata": {},
   "source": [
    "### Example 4: Two-qubit system 4"
   ]
  },
  {
   "cell_type": "markdown",
   "id": "28e1884f-5348-4c08-aa4a-5330aecc53bb",
   "metadata": {},
   "source": [
    "Consider a system consisting of two qubits $A$ and $B$, where $\\psi_{AB}$ of the full system $\\mathcal{H}_{AB}$ is given by"
   ]
  },
  {
   "cell_type": "markdown",
   "id": "d2810f29-a85b-4347-8d6e-201e48b14077",
   "metadata": {},
   "source": [
    "$$\\eqalign{\n",
    "\\psi_{AB} = \\cos{\\theta}\\ket{0_A 1_B} + \\sin{\\theta}\\ket{1_A 0_B}\n",
    "}$$"
   ]
  },
  {
   "cell_type": "markdown",
   "id": "602694af-1460-4590-a3b4-8d20f8e5ed20",
   "metadata": {},
   "source": [
    "The density matrix $\\rho_{AB}$ of the full system $\\mathcal{H}_{AB}$ is given by"
   ]
  },
  {
   "cell_type": "markdown",
   "id": "e86b3b3d-d2c6-46c7-88ec-3c401aabc2c3",
   "metadata": {},
   "source": [
    "$$\\eqalign{\n",
    "\\rho_{AB} & = \\ket{\\psi_{AB}} \\bra{\\psi_{AB}} \\\\\n",
    "          & = (\\cos{\\theta}\\ket{0_A 1_B} + \\sin{\\theta}\\ket{1_A 0_B}) \\otimes (\\cos{\\theta}\\bra{0_A 1_B} + \\sin{\\theta}\\bra{1_A 0_B})\\\\\n",
    "          & = \\cos^2{\\theta}\\ket{0_A 1_B}\\bra{0_A 1_B}+\\sin^2{\\theta}\\ket{1_A 0_B}\\bra{1_A 0_B}+\\sin{\\theta}\\cos{\\theta}(\\ket{0_A 1_B}\\bra{1_A 0_B}+\\ket{1_A 0_B}\\bra{0_A 1_B}) \\\\\n",
    "          & = \\cos^2{\\theta}(\\ket{0_A}\\bra{0_A} \\otimes \\ket{1_B}\\bra{1_B})+\\sin^2{\\theta}(\\ket{1_A}\\bra{1_A} \\otimes \\ket{0_B}\\bra{0_B})+\\sin{\\theta}\\cos{\\theta}(\\ket{0_A}\\bra{1_A} \\otimes \\ket{1_B}\\bra{0_B}+\\ket{1_A}\\bra{0_A} \\otimes \\ket{0_B}\\bra{1_B}) \n",
    "}$$"
   ]
  },
  {
   "cell_type": "markdown",
   "id": "db27ca20-57f4-4f98-80d6-9357d021fde7",
   "metadata": {},
   "source": [
    "The reduced density matrix $\\rho_A$ of the subsystem $A$ is defined by the partial trace $B$ of the density matrix $\\rho_{AB}$"
   ]
  },
  {
   "cell_type": "markdown",
   "id": "86b30261-44f9-4ca4-92da-b02be4d3b75d",
   "metadata": {},
   "source": [
    "$$\\eqalign{\n",
    "\\rho_A & = \\mathrm{Tr}_{B} (\\rho_{AB}) \\\\\n",
    "       & = \\cos^2{\\theta}[\\ket{0_A}\\bra{0_A} \\otimes \\mathrm{Tr}_{B}(\\ket{1_B}\\bra{1_B})]+\\sin^2{\\theta}[\\ket{1_A}\\bra{1_A} \\otimes \\mathrm{Tr}_{B}(\\ket{0_B}\\bra{0_B})] + \\sin{\\theta}\\cos{\\theta}[\\ket{0_A}\\bra{1_A} \\otimes \\mathrm{Tr}_{B}(\\ket{1_B}\\bra{0_B})+\\ket{1_A}\\bra{0_A} \\otimes \\mathrm{Tr}_{B}(\\ket{0_B}\\bra{1_B})] \\\\\n",
    "       & = \\cos^2{\\theta}[\\ket{0_A}\\bra{0_A} \\otimes \\braket{1_B|1_B})]+\\sin^2{\\theta}[\\ket{1_A}\\bra{1_A} \\otimes \\braket{0_B|0_B})] + \\cancel{\\sin{\\theta}\\cos{\\theta}[\\ket{0_A}\\bra{1_A} \\otimes \\braket{0_B|1_B})+\\ket{1_A}\\bra{0_A} \\otimes \\braket{1_B|0_B})}] \\\\\n",
    "       & = \\cos^2{\\theta}\\ket{0_A}\\bra{0_A} + \\sin^2{\\theta}\\ket{1_A}\\bra{1_A} \\\\\n",
    "       & = \\begin{pmatrix} \n",
    "    \\cos^2{\\theta} & 0 \\\\ \n",
    "    0  & \\sin^2{\\theta} \n",
    "    \\end{pmatrix}\n",
    "}$$"
   ]
  },
  {
   "cell_type": "markdown",
   "id": "d2782280-df82-4dce-a2c3-ee3d16d1243c",
   "metadata": {},
   "source": [
    "Let $\\lambda$ be the eigenvalues of the reduced density matrix $\\rho_A$. "
   ]
  },
  {
   "cell_type": "markdown",
   "id": "d4558941-f2b1-410b-817e-039e7352d9ab",
   "metadata": {},
   "source": [
    "$$\n",
    "\\begin{gather}\n",
    "\\rho - \\lambda I  = \\begin{pmatrix} \n",
    "    \\cos^2{\\theta} & 0 \\\\ \n",
    "    0  & \\sin^2{\\theta} \n",
    "    \\end{pmatrix}-\n",
    "\\begin{pmatrix} \n",
    "  \\lambda  & 0 \\\\ \n",
    "  0  & \\lambda \n",
    "  \\end{pmatrix}\n",
    "   = \\begin{pmatrix} \n",
    "  \\cos^2{\\theta}-\\lambda  & 0 \\\\ \n",
    "  0  & \\sin^2{\\theta}-\\lambda \n",
    "  \\end{pmatrix} \\\\\n",
    "  \\det (\\rho - \\lambda I)  = \\begin{vmatrix} \n",
    "  \\cos^2{\\theta}-\\lambda  & 0 \\\\ \n",
    "  0  & \\sin^2{\\theta}-\\lambda \n",
    "  \\end{vmatrix}\n",
    "   = (\\cos^2{\\theta}-\\lambda)(\\sin^2{\\theta}-\\lambda) - 0= 0 \\\\\n",
    "  \\lambda = \\cos^2{\\theta}, \\ \\sin^2{\\theta}\n",
    "\\end{gather}\n",
    "$$"
   ]
  },
  {
   "cell_type": "markdown",
   "id": "c859970e-a946-47c4-b8e9-ef95f17ec755",
   "metadata": {},
   "source": [
    "Calculate entanglement entropy $S(\\rho_A)$"
   ]
  },
  {
   "cell_type": "markdown",
   "id": "0a0a09c8-011a-49e6-8f2b-203a77d60017",
   "metadata": {},
   "source": [
    "$$\\eqalign{\n",
    "S(\\rho_A) & = -\\mathrm{Tr}(\\rho_A\\log\\rho_A) \\\\\n",
    "        & = -\\sum_i \\lambda_i\\log\\lambda_i \\\\\n",
    "        & = -\\cos^2{\\theta}\\log{\\cos^2{\\theta}} -\\sin^2{\\theta}\\log{\\sin^2{\\theta}}\n",
    "}$$"
   ]
  },
  {
   "cell_type": "markdown",
   "id": "409f104b-3d14-4b25-a0dc-dec15d7a2dbd",
   "metadata": {},
   "source": [
    "If $\\theta=0$,"
   ]
  },
  {
   "cell_type": "markdown",
   "id": "9f6a16a2-852c-44f4-bd11-e3ca518ee860",
   "metadata": {},
   "source": [
    "$$\\eqalign{\n",
    "\\psi_{AB} & = \\ket{0_A 1_B} \\\\\n",
    "S(\\rho_A) & = -1 \\cdot \\log{1} - 0 \\cdot \\log{0}= 0 \\\\\n",
    "}$$"
   ]
  },
  {
   "cell_type": "markdown",
   "id": "3fa1d270-2eff-4fd5-a166-d1c97129c029",
   "metadata": {},
   "source": [
    "If $\\theta=\\pm\\frac{\\pi}{4}$,"
   ]
  },
  {
   "cell_type": "markdown",
   "id": "3048d62e-b785-4278-8b32-9e5197f41e32",
   "metadata": {},
   "source": [
    "$$\\eqalign{\n",
    "\\psi_{AB} & = \\frac{1}{\\sqrt{2}}(\\ket{0_A 1_B} + \\ket{1_A 0_B}) \\\\\n",
    "S(\\rho_A) & = -\\frac{1}{2}\\log{\\frac{1}{2}} - \\frac{1}{2}\\log{\\frac{1}{2}}  = \\log{2} \\\\\n",
    "}$$"
   ]
  },
  {
   "cell_type": "markdown",
   "id": "dc4f5f96-1f77-4a2e-9e5e-c857061a6dab",
   "metadata": {},
   "source": [
    "### Example 5: Two-qubit system 5"
   ]
  },
  {
   "cell_type": "markdown",
   "id": "6d0d2f38-01ba-49c6-bdae-d827b6e67704",
   "metadata": {},
   "source": [
    "Consider a system consisting of two qubits $A$ and $B$, where $\\psi_{AB}$ of the full system $\\mathcal{H}_{AB}$ is given by"
   ]
  },
  {
   "cell_type": "markdown",
   "id": "7c91debd-2eef-4090-8403-bb14e04efc27",
   "metadata": {},
   "source": [
    "$$\\eqalign{\n",
    "\\psi_{AB} = \\frac{1}{\\sqrt{2}}(\\ket{0_A 0_B} + \\ket{1_A 1_B})\n",
    "}$$"
   ]
  },
  {
   "cell_type": "markdown",
   "id": "fdeb0f26-fa24-4cb8-9fd7-9fa2888d6355",
   "metadata": {},
   "source": [
    "The density matrix $\\rho_{AB}$ of the full system $\\mathcal{H}_{AB}$ is given by"
   ]
  },
  {
   "cell_type": "markdown",
   "id": "53f0193d-3734-443b-be6e-3dfedf966fb4",
   "metadata": {},
   "source": [
    "$$\\eqalign{\n",
    "\\rho_{AB} & = \\ket{\\psi_{AB}} \\bra{\\psi_{AB}} \\\\\n",
    "          & = \\frac{1}{2}(\\ket{0_A 0_B} + \\ket{1_A 1_B}) \\otimes (\\bra{0_A 0_B} + \\bra{1_A 1_B}) \\\\\n",
    "          & = \\frac{1}{2}(\\ket{0_A 0_B}\\bra{0_A 0_B} + \\ket{0_A 0_B}\\bra{1_A 1_B} + \\ket{1_A 1_B}\\bra{0_A 0_B} + \\ket{1_A 1_B}\\bra{1_A 1_B})\n",
    "}$$"
   ]
  },
  {
   "cell_type": "markdown",
   "id": "3d8042f9-696d-4474-9290-810fc9d74e8c",
   "metadata": {},
   "source": [
    "The reduced density matrix $\\rho_A$ of the subsystem $A$ is defined by the partial trace $B$ of the density matrix $\\rho_{AB}$"
   ]
  },
  {
   "cell_type": "markdown",
   "id": "c5c3bb5e-2cca-4888-97af-ab7deb375b22",
   "metadata": {},
   "source": [
    "$$\\eqalign{\n",
    "\\rho_A & = \\mathrm{Tr}_{B} (\\rho_{AB}) \\\\\n",
    "       & = \\frac{1}{2}[\\mathrm{Tr}_{B}(\\ket{0_A 0_B}\\bra{0_A 0_B}) + \\mathrm{Tr}_{B}(\\ket{0_A 0_B}\\bra{1_A 1_B}) + \\mathrm{Tr}_{B}(\\ket{1_A 1_B}\\bra{0_A 0_B}) + \\mathrm{Tr}_{B}(\\ket{1_A 1_B}\\bra{1_A 1_B})]\\\\\n",
    "       & = \\frac{1}{2}[\\mathrm{Tr}_{B}(\\ket{0_A} \\bra{0_A} \\otimes \\ket{0_B}\\bra{0_B}) + \\mathrm{Tr}_{B}(\\ket{0_A} \\bra{1_A} \\otimes \\ket{0_B}\\bra{1_B}) + \\mathrm{Tr}_{B}(\\ket{1_A} \\bra{0_A} \\otimes \\ket{1_B}\\bra{0_B}) + \\mathrm{Tr}_{B}(\\ket{1_A} \\bra{1_A} \\otimes \\ket{1_B}\\bra{1_B})]\\\\\n",
    "       & = \\frac{1}{2}[\\ket{0_A} \\bra{0_A} \\otimes \\mathrm{Tr}_{B}(\\ket{0_B}\\bra{0_B}) + \\ket{0_A} \\bra{1_A} \\otimes \\mathrm{Tr}_{B}(\\ket{0_B}\\bra{1_B}) + \\ket{1_A} \\bra{0_A} \\otimes \\mathrm{Tr}_{B}(\\ket{1_B}\\bra{0_B}) + \\ket{1_A} \\bra{1_A} \\otimes \\mathrm{Tr}_{B}(\\ket{1_B}\\bra{1_B})] \\\\\n",
    "       & = \\frac{1}{2}[\\ket{0_A} \\bra{0_A} \\otimes \\braket{0_B|0_B}) + \\cancel{\\ket{0_A} \\bra{1_A} \\otimes \\braket{1_B|0_B}} + \\cancel{\\ket{1_A} \\bra{0_A} \\otimes \\braket{0_B|1_B})} + \\ket{1_A} \\bra{1_A} \\otimes \\braket{1_B|1_B})] \\\\\n",
    "       & = \\frac{1}{2}[\\ket{0_A} \\bra{0_A} + \\ket{1_A} \\bra{1_A}] \\\\\n",
    "       & = \\frac{1}{2}[ \\begin{pmatrix} \n",
    "    1 \\\\ \n",
    "    0\n",
    "    \\end{pmatrix} \n",
    "    \\cdot\n",
    "    \\begin{pmatrix} \n",
    "    1 & 0\\\\ \n",
    "    \\end{pmatrix} +\n",
    "    \\begin{pmatrix} \n",
    "    0 \\\\ \n",
    "    1\n",
    "    \\end{pmatrix} \n",
    "    \\cdot\n",
    "    \\begin{pmatrix} \n",
    "    0 & 1\\\\ \n",
    "    \\end{pmatrix}]\n",
    "    \\\\\n",
    "& = \\frac{1}{2} \\begin{pmatrix} \n",
    "     1 & 0 \\\\ \n",
    "    0  & 1 \n",
    "    \\end{pmatrix}\n",
    "}$$"
   ]
  },
  {
   "cell_type": "code",
   "execution_count": 8,
   "id": "b103daab-428f-4c56-bd76-292299dfbf22",
   "metadata": {},
   "outputs": [
    {
     "name": "stdout",
     "output_type": "stream",
     "text": [
      "DensityMatrix([[0.5+0.j, 0. +0.j],\n",
      "               [0. +0.j, 0.5+0.j]],\n",
      "              dims=(2,))\n"
     ]
    }
   ],
   "source": [
    "# Describe the reduced density matrix of the subsystem A as DensityMatrix object\n",
    "r_A = DensityMatrix([[1/2, 0], [0, 1/2]]) \n",
    "print(r_A)"
   ]
  },
  {
   "cell_type": "markdown",
   "id": "79f04b02-c539-475b-aa4f-6ce11959a184",
   "metadata": {},
   "source": [
    "This is equal to the reduced density matrix in Example 2. Therefore, entanglement entropy $S(\\rho_A)$ is given by"
   ]
  },
  {
   "cell_type": "markdown",
   "id": "19b7caa6-347d-4f13-bed0-a16dbba3bcba",
   "metadata": {},
   "source": [
    "$$\\eqalign{\n",
    "S(\\rho_A) & = -\\mathrm{Tr}(\\rho_A\\log\\rho_A) \\\\\n",
    "        & = -\\sum_i \\lambda_i\\log\\lambda_i \\\\\n",
    "        & = -\\frac{1}{2}\\log{\\frac{1}{2}} -\\frac{1}{2}\\log{\\frac{1}{2}} \\\\\n",
    "        & = \\log{2}\n",
    "}$$"
   ]
  },
  {
   "cell_type": "code",
   "execution_count": 9,
   "id": "ebb72ccc-fb56-4d79-b0f6-eb551a0eaa61",
   "metadata": {},
   "outputs": [
    {
     "name": "stdout",
     "output_type": "stream",
     "text": [
      "1.0\n"
     ]
    }
   ],
   "source": [
    "# Calculate entanglement entropy of the subsystem A\n",
    "s_A = entropy(r_A)\n",
    "print(s_A)"
   ]
  },
  {
   "cell_type": "code",
   "execution_count": null,
   "id": "6e0a8aa4-0312-44ba-a459-cff16d74b44c",
   "metadata": {},
   "outputs": [],
   "source": []
  }
 ],
 "metadata": {
  "kernelspec": {
   "display_name": "Qiskit (stable)",
   "language": "python",
   "name": "qiskit-stable"
  },
  "language_info": {
   "codemirror_mode": {
    "name": "ipython",
    "version": 3
   },
   "file_extension": ".py",
   "mimetype": "text/x-python",
   "name": "python",
   "nbconvert_exporter": "python",
   "pygments_lexer": "ipython3",
   "version": "3.9.17"
  }
 },
 "nbformat": 4,
 "nbformat_minor": 5
}
