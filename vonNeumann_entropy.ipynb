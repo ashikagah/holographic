{
 "cells": [
  {
   "cell_type": "markdown",
   "id": "f1256c9c-a351-4f8c-b8d7-e769a295a427",
   "metadata": {},
   "source": [
    "# <center>__von Neumann Entropy__</center>"
   ]
  },
  {
   "cell_type": "markdown",
   "id": "a3553f21-67ee-4ee8-8950-327a3a3221fa",
   "metadata": {},
   "source": [
    "## __Definition__"
   ]
  },
  {
   "cell_type": "markdown",
   "id": "54bad038-a450-4298-bd7d-fe10eada2e56",
   "metadata": {},
   "source": [
    "von Neumann defined the entropy of a density matrix $\\rho$ by"
   ]
  },
  {
   "cell_type": "markdown",
   "id": "150ec202-f300-47a1-9d1e-65a65acc9db3",
   "metadata": {},
   "source": [
    "$$ \n",
    "\\begin{equation}\n",
    "\\tag{1}\n",
    "S(\\rho) = -\\mathrm{Tr}(\\rho\\log\\rho)\n",
    "\\end{equation}\n",
    "$$"
   ]
  },
  {
   "cell_type": "markdown",
   "id": "b7c9d4c6-54e9-439c-aaa6-e317363d1d4d",
   "metadata": {},
   "source": [
    "In this formula, logarithms are taken to base 2. When $\\lambda_i \\ (i=1, 2, 3, ...)$ are eigenvalues of $\\rho$, von Neumann entropy can be re-expressed as"
   ]
  },
  {
   "cell_type": "markdown",
   "id": "bc17c922-b0aa-4731-82d7-63885bfd5bcc",
   "metadata": {},
   "source": [
    "$$\\eqalign{\n",
    "S(\\rho) & = -\\sum_i \\lambda_i\\log\\lambda_i \\\\\n",
    "\\tag{2}\n",
    "        & = -\\lambda_1\\log\\lambda_1 - \\lambda_2\\log\\lambda_2 - \\lambda_3\\log\\lambda_3 \\cdots \n",
    "}$$"
   ]
  },
  {
   "cell_type": "markdown",
   "id": "d1bea3cd-529d-4d1b-a477-0a5523eff8d9",
   "metadata": {},
   "source": [
    "For caculations of von Neumann entropy, $Eq. 2$ is usually most useful. The following is the derivation of $Eq. 2$."
   ]
  },
  {
   "cell_type": "markdown",
   "id": "7cd9d166-e190-4e0a-aded-34ca8829749b",
   "metadata": {},
   "source": [
    "When eigenvalue decomposition is performed on any normal operator $A$,"
   ]
  },
  {
   "cell_type": "markdown",
   "id": "013b896d-b372-433a-8a7c-e7f0ebc7334d",
   "metadata": {},
   "source": [
    "$$\\eqalign{\n",
    "A & = \\sum_i a_i \\ket{\\psi_i} \\bra{\\psi_i} \\\\\n",
    "  & = a_1 \\ket{\\psi_1} \\bra{\\psi_1} + a_2 \\ket{\\psi_2} \\bra{\\psi_2} + a_3 \\ket{\\psi_3} \\bra{\\psi_3} + \\cdots \n",
    "}$$"
   ]
  },
  {
   "cell_type": "markdown",
   "id": "ac4e89c6-93ce-42da-8546-8384316f9f9c",
   "metadata": {},
   "source": [
    "where $a_i \\ (i=1, 2, 3, ...)$ are eigenvalues and $\\ket{\\psi_i} \\ (i=1, 2, 3, ...)$ are the corresponding eigenvectors of $A$."
   ]
  },
  {
   "cell_type": "markdown",
   "id": "0856115f-4aeb-4e2e-b33e-607e43157522",
   "metadata": {},
   "source": [
    "Then a Hermitian operator $f(A)$ can be defined as"
   ]
  },
  {
   "cell_type": "markdown",
   "id": "7d3aa8b0-789c-4f1d-bf00-ac11ff4f90ff",
   "metadata": {},
   "source": [
    "$$\\eqalign{\n",
    "f(A) & = \\sum_i f(a_i) \\ket{\\psi_i} \\bra{\\psi_i} \\\\\n",
    "     & = f(a_1) \\ket{\\psi_1} \\bra{\\psi_1} + f(a_2) \\ket{\\psi_2} \\bra{\\psi_2} + f(a_3) \\ket{\\psi_3} \\bra{\\psi_3} + \\cdots \n",
    "}$$"
   ]
  },
  {
   "cell_type": "markdown",
   "id": "e1041641-52bc-4165-b7aa-cff5c84f2a07",
   "metadata": {},
   "source": [
    "Using eignevalue decomposition, the density matrix $\\rho$ is given as"
   ]
  },
  {
   "cell_type": "markdown",
   "id": "c6b800f1-be14-46a7-96b9-977ad38ec725",
   "metadata": {},
   "source": [
    "$$\\eqalign{\n",
    "\\rho & = \\sum_i \\lambda_i \\ket{\\phi_i} \\bra{\\phi_i} \\\\\n",
    "     & = \\lambda_1 \\ket{\\phi_1} \\bra{\\phi_1} + \\lambda_2 \\ket{\\phi_2} \\bra{\\phi_2} + \\lambda_3 \\ket{\\phi_3} \\bra{\\phi_3} + \\cdots \n",
    "}$$"
   ]
  },
  {
   "cell_type": "markdown",
   "id": "e213bc05-83ec-4007-a0d5-948078b51326",
   "metadata": {},
   "source": [
    "where $\\lambda_i \\ (i=1, 2, 3, ...)$ are eigenvalues and $\\ket{\\phi_i} \\ (i=1, 2, 3, ...)$ are the corresponding eigenvectors of $\\rho$."
   ]
  },
  {
   "cell_type": "markdown",
   "id": "5c90bd84-a952-4c69-9132-d42d63d8f0ce",
   "metadata": {},
   "source": [
    "When $A=\\rho$, and $f(A)=\\rho\\log\\rho$,"
   ]
  },
  {
   "cell_type": "markdown",
   "id": "3f8a4132-d151-4e18-95e8-304f9090931e",
   "metadata": {},
   "source": [
    "$$\\eqalign{\n",
    "f(A) & = \\rho\\log\\rho \\\\\n",
    "     & = \\sum_i f(\\lambda_i) \\ket{\\phi_i} \\bra{\\phi_i} \\\\\n",
    "     & = \\sum_i \\lambda_i\\log\\lambda_i \\ket{\\phi_i} \\bra{\\phi_i} \\\\\n",
    "     & = \\lambda_1\\log\\lambda_1 \\ket{\\phi_1} \\bra{\\phi_1} + \\lambda_2\\log\\lambda_2 \\ket{\\phi_2} \\bra{\\phi_2} + \\lambda_3\\log\\lambda_3 \\ket{\\phi_3} \\bra{\\phi_3}\\cdots \n",
    "}$$"
   ]
  },
  {
   "cell_type": "markdown",
   "id": "efe6a361-9396-4937-8ec7-a053634f5acb",
   "metadata": {},
   "source": [
    "This indicates that the operator $f(A) = \\rho\\log\\rho$ has eigenvalues $\\lambda_i\\log\\lambda_i \\ (i=1, 2, 3, ...)$ with the corresponding eigenvectors $\\ket{\\phi_i} \\ (i=1, 2, 3, ...)$. Therefore, the trace of $f(A) = \\rho\\log\\rho$ is the sum of its eigenvalues $\\lambda_i\\log\\lambda_i \\ (i=1, 2, 3, ...)$. "
   ]
  },
  {
   "cell_type": "markdown",
   "id": "8a4d565f-97d6-413e-a5aa-6ac29b360715",
   "metadata": {},
   "source": [
    "$$\\eqalign{\n",
    "\\mathrm{Tr}(\\rho\\log\\rho) & = \\sum_i \\lambda_i\\log\\lambda_i \\\\\n",
    "     & = \\lambda_1\\log\\lambda_1 + \\lambda_2\\log\\lambda_2 + \\lambda_3\\log\\lambda_3 \\cdots \n",
    "}$$"
   ]
  },
  {
   "cell_type": "markdown",
   "id": "5c2f2392-52e1-4e37-8016-0db40f2de0f0",
   "metadata": {},
   "source": [
    "Therfore, the von Neumann entropy of the density matrix $\\rho$ can also be expressed as"
   ]
  },
  {
   "cell_type": "markdown",
   "id": "71db74b6-7d1f-46a7-898f-a7d66f5a9368",
   "metadata": {},
   "source": [
    "$$\\eqalign{\n",
    "S(\\rho) & = -\\mathrm{Tr}(\\rho\\log\\rho) \\\\\n",
    "        & = -\\sum_i \\lambda_i\\log\\lambda_i \\\\\n",
    "        & = -\\lambda_1\\log\\lambda_1 - \\lambda_2\\log\\lambda_2 - \\lambda_3\\log\\lambda_3 \\cdots \n",
    "}$$"
   ]
  },
  {
   "cell_type": "markdown",
   "id": "8ccf7690-1f36-4f65-b63a-2e54ac0ec390",
   "metadata": {},
   "source": [
    "where $\\lambda_i \\ (i=1, 2, 3, ...)$ are eigenvalues of $\\rho$."
   ]
  },
  {
   "cell_type": "markdown",
   "id": "57f31b1d-bfb9-46e2-9a38-585ff9f5d3fa",
   "metadata": {},
   "source": [
    "## __Examples__"
   ]
  },
  {
   "cell_type": "markdown",
   "id": "24365e79-e35e-4b06-bdb2-4fa734f7e44e",
   "metadata": {},
   "source": [
    "Let $\\lambda$ be the eigenvalues of the density matrix $\\rho$.  "
   ]
  },
  {
   "cell_type": "markdown",
   "id": "64a24a2b-84a5-406d-8d94-25083b3bc228",
   "metadata": {},
   "source": [
    "### Example 1"
   ]
  },
  {
   "cell_type": "markdown",
   "id": "05aaa79e-211f-4ade-82b8-2befa5ad5373",
   "metadata": {},
   "source": [
    "$$\n",
    "\\begin{equation}\n",
    "\\rho = \n",
    "  \\begin{pmatrix} \n",
    "  1  & 0 \\\\ \n",
    "  0  & 0 \n",
    "    \\end{pmatrix}\n",
    "\\end{equation}\n",
    "$$"
   ]
  },
  {
   "cell_type": "markdown",
   "id": "0d444f14-581d-4653-9047-8eead1884920",
   "metadata": {},
   "source": [
    "$$\n",
    "\\begin{gather}\n",
    "\\rho - \\lambda I = \\begin{pmatrix} \n",
    "  1  & 0 \\\\ \n",
    "  0  & 0 \n",
    "  \\end{pmatrix}-\n",
    "\\begin{pmatrix} \n",
    "  \\lambda  & 0 \\\\ \n",
    "  0  & \\lambda \n",
    "  \\end{pmatrix}\n",
    "  = \\begin{pmatrix} \n",
    "  1-\\lambda  & 0 \\\\ \n",
    "  0  & -\\lambda \n",
    "  \\end{pmatrix} \\\\\n",
    "  \\det (\\rho - \\lambda I) = \\begin{vmatrix} \n",
    "  1 - \\lambda & 0 \\\\ \n",
    "  0  & - \\lambda \n",
    "  \\end{vmatrix}\n",
    " = -\\lambda(1-\\lambda) = 0 \\\\\n",
    "\\lambda = 0, 1\n",
    "\\end{gather}\n",
    "$$"
   ]
  },
  {
   "cell_type": "markdown",
   "id": "cb6e07f0-4049-4fe4-8e1a-07eb84a934c7",
   "metadata": {},
   "source": [
    "$$\\eqalign{\n",
    "S(\\rho) & = -\\sum_i \\lambda_i\\log\\lambda_i \\\\\n",
    "        & = -0\\log{0} - 1\\log{1}\n",
    "        & = 0\n",
    "}$$"
   ]
  },
  {
   "cell_type": "markdown",
   "id": "c8604c73-a786-4779-843d-c6cddb9ae55a",
   "metadata": {},
   "source": [
    "### Example 2"
   ]
  },
  {
   "cell_type": "markdown",
   "id": "78bdfa86-d229-4199-817c-bbf832e83a8b",
   "metadata": {},
   "source": [
    "$$\n",
    "\\begin{equation}\n",
    "\\rho = \\frac{1}{2}\n",
    "  \\begin{pmatrix} \n",
    "  1  & 1 \\\\ \n",
    "  1  & 1 \n",
    "    \\end{pmatrix}\n",
    "\\end{equation}\n",
    "$$"
   ]
  },
  {
   "cell_type": "markdown",
   "id": "279d5293-3e34-4a4a-b68f-07f3213b805d",
   "metadata": {},
   "source": [
    "$$\n",
    "\\begin{gather}\n",
    "\\rho - \\lambda I  = \\frac{1}{2} \\begin{pmatrix} \n",
    "  1  & 1 \\\\ \n",
    "  1  & 1 \n",
    "  \\end{pmatrix}-\n",
    "\\begin{pmatrix} \n",
    "  \\lambda  & 0 \\\\ \n",
    "  0  & \\lambda \n",
    "  \\end{pmatrix}\n",
    "   = \\begin{pmatrix} \n",
    "  \\frac{1}{2}-\\lambda  & \\frac{1}{2} \\\\ \n",
    "  \\frac{1}{2}  & \\frac{1}{2}-\\lambda \n",
    "  \\end{pmatrix} \\\\\n",
    "  \\det (\\rho - \\lambda I)  = \\begin{vmatrix} \n",
    "  \\frac{1}{2}-\\lambda  & \\frac{1}{2} \\\\ \n",
    "  \\frac{1}{2}  & \\frac{1}{2}-\\lambda \n",
    "  \\end{vmatrix}\n",
    "   = (\\frac{1}{2}-\\lambda)^2 - \\frac{1}{4} = 0 \\\\\n",
    "  \\lambda(\\lambda-1) = 0 \\\\\n",
    "  \\lambda = 0, 1\n",
    "\\end{gather}\n",
    "$$"
   ]
  },
  {
   "cell_type": "markdown",
   "id": "9a26e42b-493e-477e-89bc-0b54bc266979",
   "metadata": {},
   "source": [
    "$$\\eqalign{\n",
    "S(\\rho) & = -\\sum_i \\lambda_i\\log\\lambda_i \\\\\n",
    "        & = -0\\log{0} - 1\\log{1}\n",
    "        & = 0\n",
    "}$$"
   ]
  },
  {
   "cell_type": "markdown",
   "id": "b3d71d65-0414-4f8a-86c2-40eb64334571",
   "metadata": {},
   "source": [
    "### Example 3"
   ]
  },
  {
   "cell_type": "markdown",
   "id": "70e15890-ef7e-4116-a630-03fb445b4a05",
   "metadata": {},
   "source": [
    "$$\n",
    "\\begin{equation}\n",
    "\\rho = \n",
    "  \\frac{1}{3}\n",
    "  \\begin{pmatrix} \n",
    "  2  & 1 \\\\ \n",
    "  1  & 1 \n",
    "  \\end{pmatrix}\n",
    "\\end{equation}\n",
    "$$"
   ]
  },
  {
   "cell_type": "markdown",
   "id": "cc0881c5-c1d8-4959-a75d-f4ec26c8223a",
   "metadata": {},
   "source": [
    "$$\n",
    "\\begin{gather}\n",
    "\\rho - \\lambda I  = \\frac{1}{3} \\begin{pmatrix} \n",
    "  2  & 1 \\\\ \n",
    "  1  & 1 \n",
    "  \\end{pmatrix}-\n",
    "\\begin{pmatrix} \n",
    "  \\lambda  & 0 \\\\ \n",
    "  0  & \\lambda \n",
    "  \\end{pmatrix}\n",
    "   = \\begin{pmatrix} \n",
    "  \\frac{2}{3}-\\lambda  & \\frac{1}{3} \\\\ \n",
    "  \\frac{1}{3}  & \\frac{1}{3}-\\lambda \n",
    "  \\end{pmatrix} \\\\\n",
    "  \\det (\\rho - \\lambda I)  = \\begin{vmatrix} \n",
    "  \\frac{2}{3}-\\lambda  & \\frac{1}{3} \\\\ \n",
    "  \\frac{1}{3}  & \\frac{1}{3}-\\lambda \n",
    "  \\end{vmatrix}\n",
    "   = (\\frac{2}{3}-\\lambda)(\\frac{1}{3}-\\lambda) - \\frac{1}{9} = 0 \\\\\n",
    "  \\lambda^2 - \\lambda + \\frac{1}{9} = 0 \\\\\n",
    "  \\lambda = \\frac{1}{2} \\pm \\frac{\\sqrt{5}}{6}\n",
    "\\end{gather}\n",
    "$$"
   ]
  },
  {
   "cell_type": "markdown",
   "id": "0f2b1038-4516-4e70-835f-7595fa24644c",
   "metadata": {},
   "source": [
    "$$\\eqalign{\n",
    "S(\\rho) & = -\\sum_i \\lambda_i\\log\\lambda_i \\\\\n",
    "        & = -(\\frac{1}{2} + \\frac{\\sqrt{5}}{6})\\log{(\\frac{1}{2} + \\frac{\\sqrt{5}}{6})} - (\\frac{1}{2} - \\frac{\\sqrt{5}}{6})\\log{(\\frac{1}{2} - \\frac{\\sqrt{5}}{6})} \\\\\n",
    "        & \\approx 0.55 \n",
    "}$$"
   ]
  },
  {
   "cell_type": "markdown",
   "id": "e58f21f1-186e-45f4-ad5d-f7e6d490306d",
   "metadata": {},
   "source": [
    "### Example 4"
   ]
  },
  {
   "cell_type": "markdown",
   "id": "80815a2c-90fe-4b1b-9cbb-d4a5737ec620",
   "metadata": {},
   "source": [
    "$$\\eqalign{\n",
    "  \\rho & = p \\ket{0}\\bra{0} + (1-p) \\frac{(\\ket{0} + \\ket{1})(\\bra{0} + \\bra{1})}{2}\\\\\n",
    "       & = p \\begin{pmatrix} \n",
    "          1  & 0 \\\\ \n",
    "          0  & 0  \n",
    "  \\end{pmatrix} + \n",
    "  \\frac{1}{2}(1-p) \\begin{pmatrix} \n",
    "          1  & 1 \\\\ \n",
    "          1  & 1  \n",
    "  \\end{pmatrix} \\\\\n",
    "       & = \\frac{1}{2} \\begin{pmatrix} \n",
    "          1+p & 1-p \\\\ \n",
    "          1-p  & 1-p  \n",
    "  \\end{pmatrix}\n",
    "}$$"
   ]
  },
  {
   "cell_type": "markdown",
   "id": "dfcf65aa-f2af-4be5-8b2f-491e62ddd95d",
   "metadata": {},
   "source": [
    "$$\n",
    "\\begin{gather}\n",
    "\\rho - \\lambda I  = \\frac{1}{2} \\begin{pmatrix} \n",
    "  1+p  & 1-p \\\\ \n",
    "  1-p  & 1-p \n",
    "  \\end{pmatrix}-\n",
    "\\begin{pmatrix} \n",
    "  \\lambda  & 0 \\\\ \n",
    "  0  & \\lambda \n",
    "  \\end{pmatrix}\n",
    "   = \\begin{pmatrix} \n",
    "  \\frac{1}{2}(1+p)-\\lambda  & \\frac{1}{2}(1-p) \\\\ \n",
    "  \\frac{1}{2}(1-p)  & \\frac{1}{2}(1-p)-\\lambda \n",
    "  \\end{pmatrix} \\\\\n",
    "  \\det (\\rho - \\lambda I)  = \\begin{vmatrix} \n",
    "  \\frac{1}{2}(1+p)-\\lambda  & \\frac{1}{2}(1-p) \\\\ \n",
    "  \\frac{1}{2}(1-p)  & \\frac{1}{2}(1-p)-\\lambda \n",
    "  \\end{vmatrix}\n",
    "   = [\\frac{1}{2}(1+p)-\\lambda][\\frac{1}{2}(1-p)-\\lambda] - \\frac{1}{4}(1-p)^2 = 0 \\\\\n",
    "  \\lambda^2 - \\lambda + \\frac{1}{2}p(1-p) = 0 \\\\\n",
    "  \\lambda = \\frac{1}{2} \\pm \\frac{1}{2}\\sqrt{1-2p(1-p)}\n",
    "\\end{gather}\n",
    "$$"
   ]
  },
  {
   "cell_type": "markdown",
   "id": "f5b772e4-c3fc-4cd2-a7b9-b8783a6615de",
   "metadata": {},
   "source": [
    "$$\\eqalign{\n",
    "S(\\rho) & = -\\sum_i \\lambda_i\\log\\lambda_i \\\\\n",
    "        & = -(\\frac{1}{2} + \\frac{1}{2}\\sqrt{1-2p(1-p)})\\log{(\\frac{1}{2} + \\frac{1}{2}\\sqrt{1-2p(1-p)})} \\\\\n",
    "        & - (\\frac{1}{2} - \\frac{1}{2}\\sqrt{1-2p(1-p)})\\log{(\\frac{1}{2} - \\frac{1}{2}\\sqrt{1-2p(1-p)})} \\\\\n",
    "}$$"
   ]
  },
  {
   "cell_type": "code",
   "execution_count": null,
   "id": "15ca6bb7-d677-4526-b5b9-2874b653add7",
   "metadata": {},
   "outputs": [],
   "source": []
  }
 ],
 "metadata": {
  "kernelspec": {
   "display_name": "Qiskit (stable)",
   "language": "python",
   "name": "qiskit-stable"
  },
  "language_info": {
   "codemirror_mode": {
    "name": "ipython",
    "version": 3
   },
   "file_extension": ".py",
   "mimetype": "text/x-python",
   "name": "python",
   "nbconvert_exporter": "python",
   "pygments_lexer": "ipython3",
   "version": "3.9.17"
  }
 },
 "nbformat": 4,
 "nbformat_minor": 5
}
