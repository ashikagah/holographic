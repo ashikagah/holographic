{
 "cells": [
  {
   "cell_type": "markdown",
   "id": "9fef2a42-2b12-4d29-aeeb-0ae678c284d8",
   "metadata": {},
   "source": [
    "# <center>__Black Hole Entropy__</center>"
   ]
  },
  {
   "cell_type": "markdown",
   "id": "cbd9ad92-0987-4fba-b343-595c252f9240",
   "metadata": {},
   "source": [
    "## __Definition__"
   ]
  },
  {
   "cell_type": "markdown",
   "id": "f9e57e5c-3793-43c0-933d-2c2cba3f59c0",
   "metadata": {},
   "source": [
    "The entropy of black holes $S_{BH}$ is defined by the Bekenstein–Hawking formula"
   ]
  },
  {
   "cell_type": "markdown",
   "id": "d7c44314-bd44-42d8-a2e5-87af60823f2f",
   "metadata": {},
   "source": [
    "$$\\eqalign{\n",
    "S_{BH} & = \\frac{k_B}{4} \\cdot \\frac{c^3}{G_N \\hbar} \\cdot A\\\\\n",
    "       & = \\frac{k_B}{4} \\cdot \\frac{1}{l^2_{pl}} \\cdot A\n",
    "}$$"
   ]
  },
  {
   "cell_type": "markdown",
   "id": "4430d823-ed0a-4bf6-aef0-1425cd3d5b99",
   "metadata": {},
   "source": [
    "where $A$ is the area of the event horizon, $k_B$ is the Boltzmann constant ($=1.380649×10^{−23}[J/K]$), $c$ is the speed of light ($=2.99792458x10^8 [m/s]$), $\\hbar$ is the Planck constant ($=1.054571817×10^{−34}[J\\cdot s]$), $G_N$ is the Newtonian constant of gravitation ($=6.6743×10^{−11}[N\\cdot m^2/kg^2]$) and $l_{pl} = \\sqrt{\\frac{G_N \\cdot \\hbar}{c^3}}$ is the Planck length ($=1.616255×10^{−35} [m]$). "
   ]
  },
  {
   "cell_type": "code",
   "execution_count": null,
   "id": "f66cf493-180c-4273-b707-425435e86e95",
   "metadata": {},
   "outputs": [],
   "source": []
  }
 ],
 "metadata": {
  "kernelspec": {
   "display_name": "Qiskit (stable)",
   "language": "python",
   "name": "qiskit-stable"
  },
  "language_info": {
   "codemirror_mode": {
    "name": "ipython",
    "version": 3
   },
   "file_extension": ".py",
   "mimetype": "text/x-python",
   "name": "python",
   "nbconvert_exporter": "python",
   "pygments_lexer": "ipython3",
   "version": "3.9.17"
  }
 },
 "nbformat": 4,
 "nbformat_minor": 5
}
